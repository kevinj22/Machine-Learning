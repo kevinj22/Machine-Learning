{
 "cells": [
  {
   "cell_type": "markdown",
   "metadata": {},
   "source": [
    "# Statistical Analysis of Loan Prediction"
   ]
  },
  {
   "cell_type": "code",
   "execution_count": 388,
   "metadata": {
    "collapsed": true
   },
   "outputs": [],
   "source": [
    "# Load librarys\n",
    "%matplotlib inline\n",
    "import pandas as pd\n",
    "import numpy as np\n",
    "import matplotlib.pyplot as plt\n"
   ]
  },
  {
   "cell_type": "code",
   "execution_count": 389,
   "metadata": {
    "collapsed": true
   },
   "outputs": [],
   "source": [
    "# Load in data\n",
    "\n",
    "train = pd.read_csv('/home/kevin/Downloads/Loan Predict/train.csv')\n",
    "test = pd.read_csv('/home/kevin/Downloads/Loan Predict/test.csv')"
   ]
  },
  {
   "cell_type": "code",
   "execution_count": 390,
   "metadata": {
    "collapsed": false
   },
   "outputs": [
    {
     "name": "stdout",
     "output_type": "stream",
     "text": [
      "       ApplicantIncome  CoapplicantIncome  LoanAmount  Loan_Amount_Term  \\\n",
      "count       614.000000         614.000000  592.000000         600.00000   \n",
      "mean       5403.459283        1621.245798  146.412162         342.00000   \n",
      "std        6109.041673        2926.248369   85.587325          65.12041   \n",
      "min         150.000000           0.000000    9.000000          12.00000   \n",
      "25%        2877.500000           0.000000         NaN               NaN   \n",
      "50%        3812.500000        1188.500000         NaN               NaN   \n",
      "75%        5795.000000        2297.250000         NaN               NaN   \n",
      "max       81000.000000       41667.000000  700.000000         480.00000   \n",
      "\n",
      "       Credit_History  \n",
      "count      564.000000  \n",
      "mean         0.842199  \n",
      "std          0.364878  \n",
      "min          0.000000  \n",
      "25%               NaN  \n",
      "50%               NaN  \n",
      "75%               NaN  \n",
      "max          1.000000  \n"
     ]
    }
   ],
   "source": [
    "# Check summary of data\n",
    "\n",
    "print train.describe()"
   ]
  },
  {
   "cell_type": "code",
   "execution_count": 391,
   "metadata": {
    "collapsed": false
   },
   "outputs": [
    {
     "name": "stdout",
     "output_type": "stream",
     "text": [
      "(614, 13)\n"
     ]
    }
   ],
   "source": [
    "# Compare describe counts versus shape to check if missing data / NA's present\n",
    "\n",
    "print train.shape \n",
    "\n"
   ]
  },
  {
   "cell_type": "markdown",
   "metadata": {},
   "source": [
    "From the summary statitics we can tell that 84% of ppl have credit scores from the mean because the mean is an identifier variable (between 0 and 1)\n",
    "\n",
    "It can also been seen that a few variables are missing data as they do not have the same count as the number of rows: Loan Amount, Loan Amount Term and Credit History.\n",
    "\n",
    "The skew of each variable can also be determined: compare mean to median \n",
    "if mean is to right of median right skew, to the left, left skew, around the same normally distributed "
   ]
  },
  {
   "cell_type": "code",
   "execution_count": 392,
   "metadata": {
    "collapsed": false
   },
   "outputs": [
    {
     "name": "stdout",
     "output_type": "stream",
     "text": [
      "Semiurban    233\n",
      "Urban        202\n",
      "Rural        179\n",
      "Name: Property_Area, dtype: int64\n"
     ]
    }
   ],
   "source": [
    "# Lets look at groupings of objects within variables with a frequency table\n",
    "# Similar to finding out counts of factors with R\n",
    "\n",
    "print train['Property_Area'].value_counts() # or train.Property_Area.value_counts()\n"
   ]
  },
  {
   "cell_type": "code",
   "execution_count": 393,
   "metadata": {
    "collapsed": false
   },
   "outputs": [
    {
     "name": "stdout",
     "output_type": "stream",
     "text": [
      "54.0\n"
     ]
    }
   ],
   "source": [
    "# Semi urban is the most popular, followed by urban the rural\n",
    "# But all are close together with a spread of 233 - 179: 54\n",
    "\n",
    "print train['Property_Area'].value_counts().describe()['max']-train.Property_Area.value_counts().describe()['min']"
   ]
  },
  {
   "cell_type": "code",
   "execution_count": 394,
   "metadata": {
    "collapsed": false
   },
   "outputs": [
    {
     "data": {
      "text/plain": [
       "array([[<matplotlib.axes._subplots.AxesSubplot object at 0x7f9bd485fe90>]], dtype=object)"
      ]
     },
     "execution_count": 394,
     "metadata": {},
     "output_type": "execute_result"
    },
    {
     "data": {
      "image/png": "[encoded data removed]",
      "text/plain": [
       "<matplotlib.figure.Figure at 0x7f9bd485f610>"
      ]
     },
     "metadata": {},
     "output_type": "display_data"
    }
   ],
   "source": [
    "# Lets look at some distributions of the data\n",
    "\n",
    "train.hist(column='ApplicantIncome',bins=50)"
   ]
  },
  {
   "cell_type": "markdown",
   "metadata": {},
   "source": [
    "The data looks like it has a heavy right tail.\n",
    "By using a boxplot we can achieve a seperate view of the outliers\n",
    "Remember outliers are  outside of the Inner lower fence: Q1 – 1.5×IQR and above the Inner upper fence: Q3 + 1.5×IQR"
   ]
  },
  {
   "cell_type": "code",
   "execution_count": 395,
   "metadata": {
    "collapsed": false
   },
   "outputs": [
    {
     "data": {
      "text/plain": [
       "<matplotlib.axes._subplots.AxesSubplot at 0x7f9bd4b51590>"
      ]
     },
     "execution_count": 395,
     "metadata": {},
     "output_type": "execute_result"
    },
    {
     "data": {
      "image/png": "[encoded data removed]",
      "text/plain": [
       "<matplotlib.figure.Figure at 0x7f9bd588de10>"
      ]
     },
     "metadata": {},
     "output_type": "display_data"
    }
   ],
   "source": [
    "# Box plot\n",
    "\n",
    "train.boxplot(column='ApplicantIncome', return_type='axes')"
   ]
  },
  {
   "cell_type": "code",
   "execution_count": 396,
   "metadata": {
    "collapsed": false
   },
   "outputs": [
    {
     "data": {
      "text/plain": [
       "Loan_ID               object\n",
       "Gender                object\n",
       "Married               object\n",
       "Dependents            object\n",
       "Education             object\n",
       "Self_Employed         object\n",
       "ApplicantIncome        int64\n",
       "CoapplicantIncome    float64\n",
       "LoanAmount           float64\n",
       "Loan_Amount_Term     float64\n",
       "Credit_History       float64\n",
       "Property_Area         object\n",
       "Loan_Status           object\n",
       "dtype: object"
      ]
     },
     "execution_count": 396,
     "metadata": {},
     "output_type": "execute_result"
    }
   ],
   "source": [
    "# To get a better idea of where these outliers are coming we can isolate catergorical variables (object type)\n",
    "\n",
    "train.dtypes"
   ]
  },
  {
   "cell_type": "code",
   "execution_count": 397,
   "metadata": {
    "collapsed": false
   },
   "outputs": [
    {
     "data": {
      "text/plain": [
       "<matplotlib.axes._subplots.AxesSubplot at 0x7f9bd5aa1250>"
      ]
     },
     "execution_count": 397,
     "metadata": {},
     "output_type": "execute_result"
    },
    {
     "data": {
      "image/png": "[encoded data removed]",
      "text/plain": [
       "<matplotlib.figure.Figure at 0x7f9bd4454f50>"
      ]
     },
     "metadata": {},
     "output_type": "display_data"
    }
   ],
   "source": [
    "# Does education level affect income?\n",
    "\n",
    "train.boxplot(column='ApplicantIncome',by='Education')"
   ]
  },
  {
   "cell_type": "code",
   "execution_count": 398,
   "metadata": {
    "collapsed": false
   },
   "outputs": [
    {
     "data": {
      "text/plain": [
       "<matplotlib.axes._subplots.AxesSubplot at 0x7f9bd5c00fd0>"
      ]
     },
     "execution_count": 398,
     "metadata": {},
     "output_type": "execute_result"
    },
    {
     "data": {
      "image/png": "[encoded data removed]",
      "text/plain": [
       "<matplotlib.figure.Figure at 0x7f9bd5286c50>"
      ]
     },
     "metadata": {},
     "output_type": "display_data"
    }
   ],
   "source": [
    "# Gender?\n",
    "train.boxplot(column='ApplicantIncome', by='Gender')"
   ]
  },
  {
   "cell_type": "code",
   "execution_count": 399,
   "metadata": {
    "collapsed": false
   },
   "outputs": [
    {
     "data": {
      "text/plain": [
       "<matplotlib.axes._subplots.AxesSubplot at 0x7f9bd5922290>"
      ]
     },
     "execution_count": 399,
     "metadata": {},
     "output_type": "execute_result"
    },
    {
     "data": {
      "image/png": "[encoded data removed]",
      "text/plain": [
       "<matplotlib.figure.Figure at 0x7f9bd53cfdd0>"
      ]
     },
     "metadata": {},
     "output_type": "display_data"
    }
   ],
   "source": [
    "# Marriage?\n",
    "\n",
    "train.boxplot(column='ApplicantIncome', by='Married')"
   ]
  },
  {
   "cell_type": "markdown",
   "metadata": {},
   "source": [
    "Seems as if married male graduates would account for the majority of the outliers"
   ]
  },
  {
   "cell_type": "code",
   "execution_count": 400,
   "metadata": {
    "collapsed": false
   },
   "outputs": [
    {
     "name": "stdout",
     "output_type": "stream",
     "text": [
      "Education          \n",
      "Graduate      count      480.000000\n",
      "              mean      5857.433333\n",
      "              std       6739.797954\n",
      "              min        150.000000\n",
      "              25%       2998.750000\n",
      "              50%       4000.000000\n",
      "              75%       6068.750000\n",
      "              max      81000.000000\n",
      "Not Graduate  count      134.000000\n",
      "              mean      3777.283582\n",
      "              std       2237.081586\n",
      "              min        210.000000\n",
      "              25%       2583.000000\n",
      "              50%       3357.500000\n",
      "              75%       4333.000000\n",
      "              max      18165.000000\n",
      "Name: ApplicantIncome, dtype: float64\n",
      "\n",
      "Differences:\n",
      "count      346.000000\n",
      "mean      2080.149751\n",
      "std       4502.716367\n",
      "min        -60.000000\n",
      "25%        415.750000\n",
      "50%        642.500000\n",
      "75%       1735.750000\n",
      "max      62835.000000\n",
      "Name: ApplicantIncome, dtype: float64\n"
     ]
    }
   ],
   "source": [
    "# There seems to be a pattern that educated earn more\n",
    "# Lets get some calulations\n",
    "\n",
    "print train.groupby('Education')['ApplicantIncome'].describe()\n",
    "print \n",
    "\n",
    "# And check the differences\n",
    "print \"Differences:\"\n",
    "print train.groupby('Education')['ApplicantIncome'].describe()['Graduate']-train.groupby('Education')['ApplicantIncome'].describe()['Not Graduate']"
   ]
  },
  {
   "cell_type": "code",
   "execution_count": 401,
   "metadata": {
    "collapsed": false
   },
   "outputs": [
    {
     "data": {
      "text/html": [
       "<div>\n",
       "<table border=\"1\" class=\"dataframe\">\n",
       "  <thead>\n",
       "    <tr style=\"text-align: right;\">\n",
       "      <th></th>\n",
       "      <th>Loan_ID</th>\n",
       "      <th>Gender</th>\n",
       "      <th>Married</th>\n",
       "      <th>Dependents</th>\n",
       "      <th>Education</th>\n",
       "      <th>Self_Employed</th>\n",
       "      <th>ApplicantIncome</th>\n",
       "      <th>CoapplicantIncome</th>\n",
       "      <th>LoanAmount</th>\n",
       "      <th>Loan_Amount_Term</th>\n",
       "      <th>Credit_History</th>\n",
       "      <th>Property_Area</th>\n",
       "      <th>Loan_Status</th>\n",
       "    </tr>\n",
       "  </thead>\n",
       "  <tbody>\n",
       "    <tr>\n",
       "      <th>155</th>\n",
       "      <td>LP001536</td>\n",
       "      <td>Male</td>\n",
       "      <td>Yes</td>\n",
       "      <td>3+</td>\n",
       "      <td>Graduate</td>\n",
       "      <td>No</td>\n",
       "      <td>39999</td>\n",
       "      <td>0.0</td>\n",
       "      <td>600.0</td>\n",
       "      <td>180.0</td>\n",
       "      <td>0.0</td>\n",
       "      <td>Semiurban</td>\n",
       "      <td>Y</td>\n",
       "    </tr>\n",
       "    <tr>\n",
       "      <th>171</th>\n",
       "      <td>LP001585</td>\n",
       "      <td>NaN</td>\n",
       "      <td>Yes</td>\n",
       "      <td>3+</td>\n",
       "      <td>Graduate</td>\n",
       "      <td>No</td>\n",
       "      <td>51763</td>\n",
       "      <td>0.0</td>\n",
       "      <td>700.0</td>\n",
       "      <td>300.0</td>\n",
       "      <td>1.0</td>\n",
       "      <td>Urban</td>\n",
       "      <td>Y</td>\n",
       "    </tr>\n",
       "    <tr>\n",
       "      <th>183</th>\n",
       "      <td>LP001637</td>\n",
       "      <td>Male</td>\n",
       "      <td>Yes</td>\n",
       "      <td>1</td>\n",
       "      <td>Graduate</td>\n",
       "      <td>No</td>\n",
       "      <td>33846</td>\n",
       "      <td>0.0</td>\n",
       "      <td>260.0</td>\n",
       "      <td>360.0</td>\n",
       "      <td>1.0</td>\n",
       "      <td>Semiurban</td>\n",
       "      <td>N</td>\n",
       "    </tr>\n",
       "    <tr>\n",
       "      <th>185</th>\n",
       "      <td>LP001640</td>\n",
       "      <td>Male</td>\n",
       "      <td>Yes</td>\n",
       "      <td>0</td>\n",
       "      <td>Graduate</td>\n",
       "      <td>Yes</td>\n",
       "      <td>39147</td>\n",
       "      <td>4750.0</td>\n",
       "      <td>120.0</td>\n",
       "      <td>360.0</td>\n",
       "      <td>1.0</td>\n",
       "      <td>Semiurban</td>\n",
       "      <td>Y</td>\n",
       "    </tr>\n",
       "    <tr>\n",
       "      <th>333</th>\n",
       "      <td>LP002101</td>\n",
       "      <td>Male</td>\n",
       "      <td>Yes</td>\n",
       "      <td>0</td>\n",
       "      <td>Graduate</td>\n",
       "      <td>NaN</td>\n",
       "      <td>63337</td>\n",
       "      <td>0.0</td>\n",
       "      <td>490.0</td>\n",
       "      <td>180.0</td>\n",
       "      <td>1.0</td>\n",
       "      <td>Urban</td>\n",
       "      <td>Y</td>\n",
       "    </tr>\n",
       "    <tr>\n",
       "      <th>409</th>\n",
       "      <td>LP002317</td>\n",
       "      <td>Male</td>\n",
       "      <td>Yes</td>\n",
       "      <td>3+</td>\n",
       "      <td>Graduate</td>\n",
       "      <td>No</td>\n",
       "      <td>81000</td>\n",
       "      <td>0.0</td>\n",
       "      <td>360.0</td>\n",
       "      <td>360.0</td>\n",
       "      <td>0.0</td>\n",
       "      <td>Rural</td>\n",
       "      <td>N</td>\n",
       "    </tr>\n",
       "    <tr>\n",
       "      <th>443</th>\n",
       "      <td>LP002422</td>\n",
       "      <td>Male</td>\n",
       "      <td>No</td>\n",
       "      <td>1</td>\n",
       "      <td>Graduate</td>\n",
       "      <td>No</td>\n",
       "      <td>37719</td>\n",
       "      <td>0.0</td>\n",
       "      <td>152.0</td>\n",
       "      <td>360.0</td>\n",
       "      <td>1.0</td>\n",
       "      <td>Semiurban</td>\n",
       "      <td>Y</td>\n",
       "    </tr>\n",
       "  </tbody>\n",
       "</table>\n",
       "</div>"
      ],
      "text/plain": [
       "      Loan_ID Gender Married Dependents Education Self_Employed  \\\n",
       "155  LP001536   Male     Yes         3+  Graduate            No   \n",
       "171  LP001585    NaN     Yes         3+  Graduate            No   \n",
       "183  LP001637   Male     Yes          1  Graduate            No   \n",
       "185  LP001640   Male     Yes          0  Graduate           Yes   \n",
       "333  LP002101   Male     Yes          0  Graduate           NaN   \n",
       "409  LP002317   Male     Yes         3+  Graduate            No   \n",
       "443  LP002422   Male      No          1  Graduate            No   \n",
       "\n",
       "     ApplicantIncome  CoapplicantIncome  LoanAmount  Loan_Amount_Term  \\\n",
       "155            39999                0.0       600.0             180.0   \n",
       "171            51763                0.0       700.0             300.0   \n",
       "183            33846                0.0       260.0             360.0   \n",
       "185            39147             4750.0       120.0             360.0   \n",
       "333            63337                0.0       490.0             180.0   \n",
       "409            81000                0.0       360.0             360.0   \n",
       "443            37719                0.0       152.0             360.0   \n",
       "\n",
       "     Credit_History Property_Area Loan_Status  \n",
       "155             0.0     Semiurban           Y  \n",
       "171             1.0         Urban           Y  \n",
       "183             1.0     Semiurban           N  \n",
       "185             1.0     Semiurban           Y  \n",
       "333             1.0         Urban           Y  \n",
       "409             0.0         Rural           N  \n",
       "443             1.0     Semiurban           Y  "
      ]
     },
     "execution_count": 401,
     "metadata": {},
     "output_type": "execute_result"
    }
   ],
   "source": [
    "# Lets find out what characteristics the top earners have\n",
    "# Rather than above Q3 + 1.5IQR as it is not very large it might be better to compare against 40% of the max\n",
    "want = train['ApplicantIncome'][train.ApplicantIncome > 0.4*train.ApplicantIncome.max()].index\n",
    "train.iloc[want]"
   ]
  },
  {
   "cell_type": "markdown",
   "metadata": {},
   "source": [
    "This confirms the outliers / top earners are indeed Educated, Male, and mostly likely married"
   ]
  },
  {
   "cell_type": "code",
   "execution_count": 402,
   "metadata": {
    "collapsed": false
   },
   "outputs": [
    {
     "data": {
      "text/plain": [
       "Loan_ID               object\n",
       "Gender                object\n",
       "Married               object\n",
       "Dependents            object\n",
       "Education             object\n",
       "Self_Employed         object\n",
       "ApplicantIncome        int64\n",
       "CoapplicantIncome    float64\n",
       "LoanAmount           float64\n",
       "Loan_Amount_Term     float64\n",
       "Credit_History       float64\n",
       "Property_Area         object\n",
       "Loan_Status           object\n",
       "dtype: object"
      ]
     },
     "execution_count": 402,
     "metadata": {},
     "output_type": "execute_result"
    }
   ],
   "source": [
    "# Continuing on the search for outliers we should check out the other numerical variables\n",
    "train.dtypes"
   ]
  },
  {
   "cell_type": "code",
   "execution_count": 403,
   "metadata": {
    "collapsed": false
   },
   "outputs": [
    {
     "data": {
      "text/plain": [
       "array([[<matplotlib.axes._subplots.AxesSubplot object at 0x7f9bd522c490>]], dtype=object)"
      ]
     },
     "execution_count": 403,
     "metadata": {},
     "output_type": "execute_result"
    },
    {
     "data": {
      "image/png": "[encoded data removed]",
      "text/plain": [
       "<matplotlib.figure.Figure at 0x7f9bd5271bd0>"
      ]
     },
     "metadata": {},
     "output_type": "display_data"
    }
   ],
   "source": [
    "# As credit history is an identifier variables\n",
    "# And Loan_Amount_Term doesn't vary much\n",
    "# We're left with LoanAmount\n",
    "train.hist(column='LoanAmount', bins=30)"
   ]
  },
  {
   "cell_type": "code",
   "execution_count": 404,
   "metadata": {
    "collapsed": false
   },
   "outputs": [
    {
     "data": {
      "text/plain": [
       "<matplotlib.axes._subplots.AxesSubplot at 0x7f9bd5271b50>"
      ]
     },
     "execution_count": 404,
     "metadata": {},
     "output_type": "execute_result"
    },
    {
     "data": {
      "image/png": "[encoded data removed]",
      "text/plain": [
       "<matplotlib.figure.Figure at 0x7f9bd4ad3850>"
      ]
     },
     "metadata": {},
     "output_type": "display_data"
    }
   ],
   "source": [
    "# Take a look at the boxplot\n",
    "train.boxplot(column='LoanAmount', return_type='axes')"
   ]
  },
  {
   "cell_type": "code",
   "execution_count": 405,
   "metadata": {
    "collapsed": false
   },
   "outputs": [
    {
     "name": "stdout",
     "output_type": "stream",
     "text": [
      "Credit Hist Freq tab:\n",
      "0.0     89\n",
      "1.0    475\n",
      "Name: Credit_History, dtype: int64\n",
      "\n",
      "Loan Status Prob if credit hist complete:\n",
      "Credit_History\n",
      "0.0    0.078652\n",
      "1.0    0.795789\n",
      "Name: Loan_Status, dtype: float64\n"
     ]
    }
   ],
   "source": [
    "# Lets move on to the categorical variables\n",
    "# First make a frequency table for credit history (taking counts of each factor)\n",
    "# Then lets change the loan status Y to 1 and N to 0 and put into a pivot table for analysis\n",
    "\n",
    "temp1 = train.Credit_History.value_counts(ascending=True)\n",
    "temp2 = train.pivot_table(values='Loan_Status',index=['Credit_History'], aggfunc = lambda x: x.map({'Y':1, 'N':0}).mean())\n",
    "\n",
    "print \"Credit Hist Freq tab:\"\n",
    "print temp1\n",
    "\n",
    "print \"\\nLoan Status Prob if credit hist complete:\"\n",
    "print temp2"
   ]
  },
  {
   "cell_type": "markdown",
   "metadata": {},
   "source": [
    "If your credit history is complete you have almost a 80% chance of getting a loan"
   ]
  },
  {
   "cell_type": "code",
   "execution_count": 406,
   "metadata": {
    "collapsed": false
   },
   "outputs": [
    {
     "data": {
      "text/plain": [
       "<matplotlib.axes._subplots.AxesSubplot at 0x7f9bd48a74d0>"
      ]
     },
     "execution_count": 406,
     "metadata": {},
     "output_type": "execute_result"
    },
    {
     "data": {
      "image/png": "[encoded data removed]",
      "text/plain": [
       "<matplotlib.figure.Figure at 0x7f9bd4671b50>"
      ]
     },
     "metadata": {},
     "output_type": "display_data"
    }
   ],
   "source": [
    "# Making side by side bar charts to visualize the data\n",
    "\n",
    "# Make the blank canvas\n",
    "fig = plt.figure(figsize=(8,4))\n",
    "# Create sub plot sections consisting of 1 row, 2 columns then place ax1 graph in the first position\n",
    "ax1 = fig.add_subplot(121)\n",
    "ax1.set_xlabel('Credit_History')\n",
    "ax1.set_ylabel('Count of Applicants')\n",
    "ax1.set_title(\"Applicants by Credit_History\")\n",
    "# Plot freq data\n",
    "temp1.plot(kind = 'bar')\n",
    "\n",
    "# Second plot\n",
    "ax2 = fig.add_subplot(122)\n",
    "ax2.set_xlabel('Credit_History')\n",
    "ax2.set_ylabel('Probability of getting loan')\n",
    "ax2.set_title(\"Probability of getting loan by credit history\")\n",
    "temp2.plot(kind ='bar')"
   ]
  },
  {
   "cell_type": "markdown",
   "metadata": {},
   "source": [
    "If your history report is complete you have approx 8X the chance of getting approved for a loan"
   ]
  },
  {
   "cell_type": "code",
   "execution_count": 407,
   "metadata": {
    "collapsed": false
   },
   "outputs": [],
   "source": [
    "# Do the same for education\n",
    "\n",
    "temp3 = train.Education.value_counts(ascending=True)\n",
    "temp4 = train.pivot_table(values='Loan_Status',index=['Education'], aggfunc = lambda x: x.map({'Y':1,'N':0}).mean())"
   ]
  },
  {
   "cell_type": "code",
   "execution_count": 408,
   "metadata": {
    "collapsed": false
   },
   "outputs": [
    {
     "data": {
      "text/plain": [
       "<matplotlib.axes._subplots.AxesSubplot at 0x7f9bd45d1350>"
      ]
     },
     "execution_count": 408,
     "metadata": {},
     "output_type": "execute_result"
    },
    {
     "data": {
      "image/png": "[encoded data removed]",
      "text/plain": [
       "<matplotlib.figure.Figure at 0x7f9bd4af9a90>"
      ]
     },
     "metadata": {},
     "output_type": "display_data"
    }
   ],
   "source": [
    "fig2 = plt.figure(figsize=(8,4))\n",
    "ax1= fig2.add_subplot(121)\n",
    "ax1.set_title('Education Freqs')\n",
    "temp3.plot(kind = 'bar')\n",
    "\n",
    "ax2 = fig2.add_subplot(122)\n",
    "ax2.set_title('Loan Approved by Edu')\n",
    "temp4.plot(kind = 'bar')"
   ]
  },
  {
   "cell_type": "markdown",
   "metadata": {},
   "source": [
    "Education doesn't seem to have a large difference on loan approval rating "
   ]
  },
  {
   "cell_type": "markdown",
   "metadata": {},
   "source": [
    "# Machine Learning"
   ]
  },
  {
   "cell_type": "code",
   "execution_count": 409,
   "metadata": {
    "collapsed": false
   },
   "outputs": [
    {
     "data": {
      "text/plain": [
       "Loan_ID               0\n",
       "Gender               13\n",
       "Married               3\n",
       "Dependents           15\n",
       "Education             0\n",
       "Self_Employed        32\n",
       "ApplicantIncome       0\n",
       "CoapplicantIncome     0\n",
       "LoanAmount           22\n",
       "Loan_Amount_Term     14\n",
       "Credit_History       50\n",
       "Property_Area         0\n",
       "Loan_Status           0\n",
       "dtype: int64"
      ]
     },
     "execution_count": 409,
     "metadata": {},
     "output_type": "execute_result"
    }
   ],
   "source": [
    "# As we noticed eariler there were missing values in the data set\n",
    "# We should find where they are\n",
    "\n",
    "train.apply(lambda x: sum(x.isnull()),axis=0)"
   ]
  },
  {
   "cell_type": "code",
   "execution_count": 410,
   "metadata": {
    "collapsed": true
   },
   "outputs": [],
   "source": [
    "# Filling in the na's for LoanAmount using the mean\n",
    "\n",
    "train.LoanAmount.fillna(train['LoanAmount'].mean(),inplace=True)"
   ]
  },
  {
   "cell_type": "code",
   "execution_count": 411,
   "metadata": {
    "collapsed": false
   },
   "outputs": [
    {
     "data": {
      "text/plain": [
       "0"
      ]
     },
     "execution_count": 411,
     "metadata": {},
     "output_type": "execute_result"
    }
   ],
   "source": [
    "sum(train.LoanAmount.isnull())"
   ]
  },
  {
   "cell_type": "code",
   "execution_count": 412,
   "metadata": {
    "collapsed": false
   },
   "outputs": [
    {
     "data": {
      "text/plain": [
       "<matplotlib.axes._subplots.AxesSubplot at 0x7f9bd56d16d0>"
      ]
     },
     "execution_count": 412,
     "metadata": {},
     "output_type": "execute_result"
    },
    {
     "data": {
      "image/png": "[encoded data removed]",
      "text/plain": [
       "<matplotlib.figure.Figure at 0x7f9bd466a110>"
      ]
     },
     "metadata": {},
     "output_type": "display_data"
    }
   ],
   "source": [
    "# Checking hypothesis that whether someone is educated or self employed\n",
    "# Correlates to the loan amount they get\n",
    "train.boxplot(column='LoanAmount',by=['Education','Self_Employed'],rot=90)"
   ]
  },
  {
   "cell_type": "code",
   "execution_count": 413,
   "metadata": {
    "collapsed": false
   },
   "outputs": [
    {
     "data": {
      "text/plain": [
       "32"
      ]
     },
     "execution_count": 413,
     "metadata": {},
     "output_type": "execute_result"
    }
   ],
   "source": [
    "sum(train.Self_Employed.isnull())"
   ]
  },
  {
   "cell_type": "code",
   "execution_count": 414,
   "metadata": {
    "collapsed": false
   },
   "outputs": [
    {
     "data": {
      "text/plain": [
       "No     500\n",
       "Yes     82\n",
       "Name: Self_Employed, dtype: int64"
      ]
     },
     "execution_count": 414,
     "metadata": {},
     "output_type": "execute_result"
    }
   ],
   "source": [
    "# Need to replace the Na's\n",
    "train.Self_Employed.value_counts()"
   ]
  },
  {
   "cell_type": "code",
   "execution_count": 415,
   "metadata": {
    "collapsed": true
   },
   "outputs": [],
   "source": [
    "# The majority of answers is No so it should be safe to replace with No\n",
    "train.Self_Employed.fillna('No',inplace=True)"
   ]
  },
  {
   "cell_type": "code",
   "execution_count": 416,
   "metadata": {
    "collapsed": false
   },
   "outputs": [],
   "source": [
    "# Lets make a pivot table again with median values \n",
    "# for all the groups of unique values \n",
    "# of Self_Employed and Education features.\n",
    "\n",
    "table = train.pivot_table(values='LoanAmount', index='Self_Employed',columns='Education', aggfunc=np.median)"
   ]
  },
  {
   "cell_type": "code",
   "execution_count": 417,
   "metadata": {
    "collapsed": false
   },
   "outputs": [
    {
     "data": {
      "text/html": [
       "<div>\n",
       "<table border=\"1\" class=\"dataframe\">\n",
       "  <thead>\n",
       "    <tr style=\"text-align: right;\">\n",
       "      <th>Education</th>\n",
       "      <th>Graduate</th>\n",
       "      <th>Not Graduate</th>\n",
       "    </tr>\n",
       "    <tr>\n",
       "      <th>Self_Employed</th>\n",
       "      <th></th>\n",
       "      <th></th>\n",
       "    </tr>\n",
       "  </thead>\n",
       "  <tbody>\n",
       "    <tr>\n",
       "      <th>No</th>\n",
       "      <td>131.0</td>\n",
       "      <td>115.0</td>\n",
       "    </tr>\n",
       "    <tr>\n",
       "      <th>Yes</th>\n",
       "      <td>152.0</td>\n",
       "      <td>130.0</td>\n",
       "    </tr>\n",
       "  </tbody>\n",
       "</table>\n",
       "</div>"
      ],
      "text/plain": [
       "Education      Graduate  Not Graduate\n",
       "Self_Employed                        \n",
       "No                131.0         115.0\n",
       "Yes               152.0         130.0"
      ]
     },
     "execution_count": 417,
     "metadata": {},
     "output_type": "execute_result"
    }
   ],
   "source": [
    "table"
   ]
  },
  {
   "cell_type": "code",
   "execution_count": 418,
   "metadata": {
    "collapsed": false
   },
   "outputs": [],
   "source": [
    "# Define a function to return the value of the pivot table\n",
    "def fage(x):\n",
    "    return table.loc[x['Self_Employed'],x['Education']]\n"
   ]
  },
  {
   "cell_type": "code",
   "execution_count": 419,
   "metadata": {
    "collapsed": false
   },
   "outputs": [],
   "source": [
    "# Replace missing values with median values\n",
    "train.fillna(train[train['LoanAmount'].isnull()].apply(fage, axis=1),inplace=True)"
   ]
  },
  {
   "cell_type": "code",
   "execution_count": 420,
   "metadata": {
    "collapsed": false
   },
   "outputs": [
    {
     "data": {
      "text/plain": [
       "0"
      ]
     },
     "execution_count": 420,
     "metadata": {},
     "output_type": "execute_result"
    }
   ],
   "source": [
    "sum(train.LoanAmount.isnull())"
   ]
  },
  {
   "cell_type": "code",
   "execution_count": 421,
   "metadata": {
    "collapsed": false
   },
   "outputs": [
    {
     "data": {
      "text/plain": [
       "array([[<matplotlib.axes._subplots.AxesSubplot object at 0x7f9bd45c7610>]], dtype=object)"
      ]
     },
     "execution_count": 421,
     "metadata": {},
     "output_type": "execute_result"
    },
    {
     "data": {
      "image/png": "[encoded data removed]",
      "text/plain": [
       "<matplotlib.figure.Figure at 0x7f9bd6c1b890>"
      ]
     },
     "metadata": {},
     "output_type": "display_data"
    }
   ],
   "source": [
    "train.hist(column='LoanAmount', bins=20)"
   ]
  },
  {
   "cell_type": "code",
   "execution_count": 422,
   "metadata": {
    "collapsed": false,
    "scrolled": true
   },
   "outputs": [
    {
     "data": {
      "text/plain": [
       "array([[<matplotlib.axes._subplots.AxesSubplot object at 0x7f9bd4d9d0d0>]], dtype=object)"
      ]
     },
     "execution_count": 422,
     "metadata": {},
     "output_type": "execute_result"
    },
    {
     "data": {
      "image/png": "[encoded data removed]",
      "text/plain": [
       "<matplotlib.figure.Figure at 0x7f9bd5cf0ed0>"
      ]
     },
     "metadata": {},
     "output_type": "display_data"
    }
   ],
   "source": [
    "# Loan amount still has a right skewed distribution\n",
    "# Its plasuable for some to want larger loans so they should not be treated as outliers\n",
    "# Perhaps take the log of the loan amounts to make it more centric\n",
    "train['LoanAmount_log']=np.log(train['LoanAmount'])\n",
    "train.hist(column='LoanAmount_log', bins=20)"
   ]
  },
  {
   "cell_type": "code",
   "execution_count": 423,
   "metadata": {
    "collapsed": false
   },
   "outputs": [
    {
     "data": {
      "text/plain": [
       "(array([   1.,    0.,    1.,    0.,    5.,    2.,   10.,   18.,   34.,\n",
       "          40.,  131.,  138.,  106.,   62.,   27.,   17.,    7.,    6.,\n",
       "           5.,    4.]),\n",
       " array([ 2.386645  ,  2.68920137,  2.99175774,  3.29431411,  3.59687048,\n",
       "         3.89942685,  4.20198322,  4.50453959,  4.80709596,  5.10965233,\n",
       "         5.41220869,  5.71476506,  6.01732143,  6.3198778 ,  6.62243417,\n",
       "         6.92499054,  7.22754691,  7.53010328,  7.83265965,  8.13521602,\n",
       "         8.43777238]),\n",
       " <a list of 20 Patch objects>)"
      ]
     },
     "execution_count": 423,
     "metadata": {},
     "output_type": "execute_result"
    },
    {
     "data": {
      "image/png": "[encoded data removed]",
      "text/plain": [
       "<matplotlib.figure.Figure at 0x7f9bd57407d0>"
      ]
     },
     "metadata": {},
     "output_type": "display_data"
    }
   ],
   "source": [
    "# In the interest of finding a better approach let's try the Box Cox Test\n",
    "from scipy import stats\n",
    "\n",
    "fig = plt.figure()\n",
    "ax1 = fig.add_subplot(211)\n",
    "train.LoanAmount.plot(kind='hist')\n",
    "\n",
    "ax2 = fig.add_subplot(212)\n",
    "boxcox, _ = stats.boxcox(train.LoanAmount)\n",
    "plt.hist(boxcox, bins=20)\n",
    "\n"
   ]
  },
  {
   "cell_type": "markdown",
   "metadata": {},
   "source": [
    "Box Cox does a test to check the relation of variance VS mean of the data and outputs this number as the optimal power transformation.\n",
    "\n",
    "-1. is a reciprocal\n",
    "-.5 is a recriprocal square root\n",
    "0.0 is a log transformation\n",
    ".5 is a square toot transform and\n",
    "1.0 is no transform.\n",
    "\n",
    "Source: http://stats.stackexchange.com/questions/18844/when-and-why-to-take-the-log-of-a-distribution-of-number"
   ]
  },
  {
   "cell_type": "code",
   "execution_count": 424,
   "metadata": {
    "collapsed": false
   },
   "outputs": [],
   "source": [
    "# Lets examine the optimal power number \n",
    "# First calculate Box-Cox log-likelihood values for them for a range of lmbda values\n",
    "# Then get the best log likelihood for a range of lambdas\n",
    "\n",
    "# Create an array between -2,2\n",
    "l = np.linspace(-2,2,int(train.LoanAmount.shape[0]))\n",
    "# Create an empty array the same size as the one above\n",
    "llf = np.zeros(l.shape, dtype=np.float)\n",
    "for i, lmbda in enumerate(l):\n",
    "    llf[i] = stats.boxcox_llf(lmbda, train.LoanAmount)"
   ]
  },
  {
   "cell_type": "code",
   "execution_count": 425,
   "metadata": {
    "collapsed": false
   },
   "outputs": [
    {
     "data": {
      "text/plain": [
       "<function matplotlib.pyplot.show>"
      ]
     },
     "execution_count": 425,
     "metadata": {},
     "output_type": "execute_result"
    },
    {
     "data": {
      "image/png": "[encoded data removed]",
      "text/plain": [
       "<matplotlib.figure.Figure at 0x7f9bd4743850>"
      ]
     },
     "metadata": {},
     "output_type": "display_data"
    }
   ],
   "source": [
    "x_most_normal, lmbda_optimal = stats.boxcox(train.LoanAmount)\n",
    "fig = plt.figure()\n",
    "ax = fig.add_subplot(111)\n",
    "ax.scatter(l, llf, marker='o',alpha=0.3,c='k')\n",
    "ax.axhline(stats.boxcox_llf(lmbda_optimal, train.LoanAmount), color='r', linestyle='dashed',linewidth=1)\n",
    "ax.axvline(lmbda_optimal, color='r', linestyle='dashed', linewidth=1)\n",
    "ax.set_xlabel('Lambda')\n",
    "ax.set_ylabel('Box Cox log-likelihood')\n",
    "plt.show"
   ]
  },
  {
   "cell_type": "markdown",
   "metadata": {},
   "source": [
    "From above we can see that lambda from the Box Cox test is around 0 so by taking the log of the data it will become approximately Normal\n",
    "\n",
    "Source: http://gildrops.com/box-cox-transformation-for-normalizing-data/\n",
    "        http://docs.scipy.org/doc/scipy-0.14.0/reference/generated/scipy.stats.boxcox_llf.html"
   ]
  },
  {
   "cell_type": "code",
   "execution_count": 426,
   "metadata": {
    "collapsed": false
   },
   "outputs": [],
   "source": [
    "# Putting the Loan Amounts Boxcox values into the data frame\n",
    "train['LoanBox']=boxcox"
   ]
  },
  {
   "cell_type": "code",
   "execution_count": 427,
   "metadata": {
    "collapsed": false
   },
   "outputs": [
    {
     "data": {
      "text/plain": [
       "array([[<matplotlib.axes._subplots.AxesSubplot object at 0x7f9bd3f7d410>]], dtype=object)"
      ]
     },
     "execution_count": 427,
     "metadata": {},
     "output_type": "execute_result"
    },
    {
     "data": {
      "image/png": "[encoded data removed]",
      "text/plain": [
       "<matplotlib.figure.Figure at 0x7f9bd5cd6c10>"
      ]
     },
     "metadata": {},
     "output_type": "display_data"
    }
   ],
   "source": [
    "# Addtional Check\n",
    "train.hist(column='LoanBox',bins=20)"
   ]
  },
  {
   "cell_type": "code",
   "execution_count": 428,
   "metadata": {
    "collapsed": false
   },
   "outputs": [
    {
     "data": {
      "text/plain": [
       "array([[<matplotlib.axes._subplots.AxesSubplot object at 0x7f9bd3d73d50>]], dtype=object)"
      ]
     },
     "execution_count": 428,
     "metadata": {},
     "output_type": "execute_result"
    },
    {
     "data": {
      "image/png": "[encoded data removed]",
      "text/plain": [
       "<matplotlib.figure.Figure at 0x7f9bd3db1190>"
      ]
     },
     "metadata": {},
     "output_type": "display_data"
    }
   ],
   "source": [
    "# Next we should focus on Applicant Income and Co-Applicant Income\n",
    "# Combine them as one for a total income column\n",
    "# Then perform boxcox again\n",
    "train.hist('ApplicantIncome', bins=20)"
   ]
  },
  {
   "cell_type": "code",
   "execution_count": 429,
   "metadata": {
    "collapsed": false
   },
   "outputs": [],
   "source": [
    "# Make a box it function to quickly give a before and after chart \n",
    "def boxitcompare(series):\n",
    "\n",
    "    from scipy import stats\n",
    "    import numpy as np\n",
    "    \n",
    "    fig = plt.figure(figsize=(8,4))\n",
    "    ax1 = fig.add_subplot(131)\n",
    "    ax1.set_title('Original')\n",
    "    series.plot(kind='hist', bins=20,rot=90)\n",
    "\n",
    "    ax2 = fig.add_subplot(132)\n",
    "    ax2.set_title('Box Cox')\n",
    "    boxcox, _ = stats.boxcox(series)\n",
    "    plt.hist(boxcox, bins=20)\n",
    "    plt.xticks(rotation = 90)\n",
    "    \n",
    "    ax3 = fig.add_subplot(133)\n",
    "    ax3.set_title('Logged')\n",
    "    logged = np.log(series)\n",
    "    plt.hist(logged,bins=20)\n",
    "    plt.xticks(rotation = 90)\n",
    "    "
   ]
  },
  {
   "cell_type": "code",
   "execution_count": 430,
   "metadata": {
    "collapsed": false
   },
   "outputs": [
    {
     "data": {
      "image/png": "[encoded data removed]",
      "text/plain": [
       "<matplotlib.figure.Figure at 0x7f9bd3e2fb90>"
      ]
     },
     "metadata": {},
     "output_type": "display_data"
    }
   ],
   "source": [
    "# Lets compare methods\n",
    "boxitcompare(train.ApplicantIncome)"
   ]
  },
  {
   "cell_type": "code",
   "execution_count": 431,
   "metadata": {
    "collapsed": true
   },
   "outputs": [],
   "source": [
    "# Looks like logged seems the closet to normal\n",
    "train['ApplicantIncome_log'] = np.log(train.ApplicantIncome)"
   ]
  },
  {
   "cell_type": "code",
   "execution_count": 432,
   "metadata": {
    "collapsed": false
   },
   "outputs": [
    {
     "data": {
      "text/plain": [
       "Loan_ID                 0\n",
       "Gender                 13\n",
       "Married                 3\n",
       "Dependents             15\n",
       "Education               0\n",
       "Self_Employed           0\n",
       "ApplicantIncome         0\n",
       "CoapplicantIncome       0\n",
       "LoanAmount              0\n",
       "Loan_Amount_Term       14\n",
       "Credit_History         50\n",
       "Property_Area           0\n",
       "Loan_Status             0\n",
       "LoanAmount_log          0\n",
       "LoanBox                 0\n",
       "ApplicantIncome_log     0\n",
       "dtype: int64"
      ]
     },
     "execution_count": 432,
     "metadata": {},
     "output_type": "execute_result"
    }
   ],
   "source": [
    "# As we noticed eariler there were missing values in the data set\n",
    "# Lets remind ourselves where they are\n",
    "\n",
    "train.apply(lambda x: sum(x.isnull()),axis=0)"
   ]
  },
  {
   "cell_type": "code",
   "execution_count": 433,
   "metadata": {
    "collapsed": false
   },
   "outputs": [
    {
     "name": "stdout",
     "output_type": "stream",
     "text": [
      "Value counts:\n",
      "\n",
      "Male      489\n",
      "Female    112\n",
      "Name: Gender, dtype: int64\n",
      "\n",
      "Total in gender: 601\n"
     ]
    }
   ],
   "source": [
    "# Deal with gender first\n",
    "print \"Value counts:\\n\"  \n",
    "print train.Gender.value_counts()\n",
    "print\n",
    "print \"Total in gender: \" + str(train.Gender.count())"
   ]
  },
  {
   "cell_type": "code",
   "execution_count": 434,
   "metadata": {
    "collapsed": false
   },
   "outputs": [
    {
     "name": "stdout",
     "output_type": "stream",
     "text": [
      "0\n"
     ]
    }
   ],
   "source": [
    "# While the majority seem male and it would be safe to fill all na's with male\n",
    "# i.e train.Gender.fillna('Male',inplace=True)\n",
    "# Practice on a copy of gender\n",
    "gends = train.Gender.copy()\n",
    "gends = gends.fillna('Male')\n",
    "print sum(gends.isnull())\n"
   ]
  },
  {
   "cell_type": "code",
   "execution_count": 435,
   "metadata": {
    "collapsed": false
   },
   "outputs": [
    {
     "data": {
      "text/plain": [
       "array([0, 0, 0, 1, 0, 0, 0, 0, 0, 0, 0, 0, 0])"
      ]
     },
     "execution_count": 435,
     "metadata": {},
     "output_type": "execute_result"
    }
   ],
   "source": [
    "# A better option might be to use a random forest classifier to determine the gender based off of \n",
    "# Trends from other characteritics \n",
    "\n",
    "# Import Random Forest Classifier \n",
    "from sklearn.ensemble import RandomForestClassifier\n",
    "\n",
    "# Prep the data\n",
    "# Want values where the gender is present (training data)\n",
    "traincopy = train.copy()\n",
    "traincopy = traincopy[traincopy.Gender.notnull()]\n",
    "# VS values where not present (test data)\n",
    "traincopy2 = train.copy()\n",
    "traincopy2 = traincopy2[traincopy2.Gender.isnull()]\n",
    "# Take all numerical features to be analyzied by\n",
    "traincopy2 = traincopy2.iloc[:,[1,6,7,8]]\n",
    "# Lets take all the numerical features i.e Applicant Income\n",
    "# Loan amount and Coapplicant Income\n",
    "features = traincopy.columns[6:9]\n",
    "# Need to turn the string into ints\n",
    "# Make 0 rep male and 1 rep female through pd.factorize\n",
    "y, _ = pd.factorize(traincopy['Gender'])\n",
    "# Create initial model\n",
    "model = RandomForestClassifier(n_estimators=500)\n",
    "# Fit the model on the original data\n",
    "model.fit(traincopy[features],y)\n",
    "# Get predictions on blank data\n",
    "preds = model.predict(traincopy2[features])\n",
    "preds"
   ]
  },
  {
   "cell_type": "code",
   "execution_count": 436,
   "metadata": {
    "collapsed": false
   },
   "outputs": [],
   "source": [
    "# Looks like a single one of them is likely to be a woman or none of them are woman\n",
    "# Not much of a difference than just making all male\n",
    "# Can't directly fillna with a numpy array so just loop through\n",
    "for i in preds:\n",
    "    train.Gender.fillna(preds[i],inplace=True)"
   ]
  },
  {
   "cell_type": "code",
   "execution_count": 437,
   "metadata": {
    "collapsed": false
   },
   "outputs": [
    {
     "data": {
      "text/plain": [
       "0"
      ]
     },
     "execution_count": 437,
     "metadata": {},
     "output_type": "execute_result"
    }
   ],
   "source": [
    "# Sanity check\n",
    "sum(train.Gender.isnull())"
   ]
  },
  {
   "cell_type": "code",
   "execution_count": 438,
   "metadata": {
    "collapsed": false
   },
   "outputs": [],
   "source": [
    "#  Now do the data frame\n",
    "pd.options.mode.chained_assignment = None  # default='warn'\n",
    "for i, s in enumerate(train.Gender):\n",
    "    if s == 'Male':\n",
    "        train.Gender.iloc[i] = 0\n",
    "    elif s == 'Female':\n",
    "        train.Gender.iloc[i] = 1"
   ]
  },
  {
   "cell_type": "code",
   "execution_count": 439,
   "metadata": {
    "collapsed": false
   },
   "outputs": [
    {
     "data": {
      "text/plain": [
       "0     0\n",
       "1     0\n",
       "2     0\n",
       "3     0\n",
       "4     0\n",
       "5     0\n",
       "6     0\n",
       "7     0\n",
       "8     0\n",
       "9     0\n",
       "10    0\n",
       "11    0\n",
       "12    0\n",
       "13    0\n",
       "14    0\n",
       "15    0\n",
       "16    0\n",
       "17    1\n",
       "18    0\n",
       "19    0\n",
       "Name: Gender, dtype: object"
      ]
     },
     "execution_count": 439,
     "metadata": {},
     "output_type": "execute_result"
    }
   ],
   "source": [
    "train.Gender.head(20)"
   ]
  },
  {
   "cell_type": "code",
   "execution_count": 440,
   "metadata": {
    "collapsed": false
   },
   "outputs": [
    {
     "data": {
      "text/plain": [
       "Loan_ID                 0\n",
       "Gender                  0\n",
       "Married                 3\n",
       "Dependents             15\n",
       "Education               0\n",
       "Self_Employed           0\n",
       "ApplicantIncome         0\n",
       "CoapplicantIncome       0\n",
       "LoanAmount              0\n",
       "Loan_Amount_Term       14\n",
       "Credit_History         50\n",
       "Property_Area           0\n",
       "Loan_Status             0\n",
       "LoanAmount_log          0\n",
       "LoanBox                 0\n",
       "ApplicantIncome_log     0\n",
       "dtype: int64"
      ]
     },
     "execution_count": 440,
     "metadata": {},
     "output_type": "execute_result"
    }
   ],
   "source": [
    "# Check what's left to fill\n",
    "train.apply(lambda x: sum(x.isnull()), axis=0)"
   ]
  },
  {
   "cell_type": "code",
   "execution_count": 441,
   "metadata": {
    "collapsed": false
   },
   "outputs": [
    {
     "name": "stdout",
     "output_type": "stream",
     "text": [
      "Yes    398\n",
      "No     213\n",
      "Name: Married, dtype: int64\n",
      "0\n"
     ]
    }
   ],
   "source": [
    "# Only 3 Married are NA\n",
    "# Check counts and fill with most common\n",
    "print train.Married.value_counts()\n",
    "train.Married = train.Married.fillna('Yes')\n",
    "print sum(train.Married.isnull())"
   ]
  },
  {
   "cell_type": "code",
   "execution_count": 442,
   "metadata": {
    "collapsed": false
   },
   "outputs": [
    {
     "name": "stdout",
     "output_type": "stream",
     "text": [
      "0     345\n",
      "1     102\n",
      "2     101\n",
      "3+     51\n",
      "Name: Dependents, dtype: int64\n",
      "count     599\n",
      "unique      4\n",
      "top         0\n",
      "freq      345\n",
      "Name: Dependents, dtype: object\n"
     ]
    }
   ],
   "source": [
    "# Check out dependant amounts\n",
    "print train.Dependents.value_counts()\n",
    "print train.Dependents.describe()"
   ]
  },
  {
   "cell_type": "code",
   "execution_count": 443,
   "metadata": {
    "collapsed": false
   },
   "outputs": [
    {
     "data": {
      "text/plain": [
       "array([1, 1, 0, 1, 2, 2, 0, 0, 0, 0, 1, 1, 1, 1, 0])"
      ]
     },
     "execution_count": 443,
     "metadata": {},
     "output_type": "execute_result"
    }
   ],
   "source": [
    "# A better option might be to use a random forest classifier to determine the gender based off of \n",
    "# Trends from other characteritics \n",
    "\n",
    "# Since this process is randomized we should set a seed to insure consistent results\n",
    "# Set a seed to get consistent results\n",
    "   \n",
    "import random\n",
    "random.seed(134)\n",
    "    \n",
    "# Lets make a function for this\n",
    "# Import Random Forest Classifier \n",
    "from sklearn.ensemble import RandomForestClassifier\n",
    "\n",
    "def predictnas(var):\n",
    "    # Should check if data is available i.e hasn't already been filled\n",
    "    # If the data has been filled with provide an error otherwise\n",
    "    \n",
    "    traincopy2 = train.copy()\n",
    "    if sum(traincopy2[var].isnull()) == 0:\n",
    "        return \"No NA's present, pick another variable\"\n",
    "    # Prep the data\n",
    "    # Want values where the gender is present (training data)\n",
    "    traincopy = train.copy()\n",
    "    traincopy = traincopy[traincopy[var].notnull()]\n",
    "    # VS values where not present (test data)\n",
    "    traincopy2 = traincopy2[traincopy2[var].isnull()]\n",
    "    # Take all numerical features to be analyzied by\n",
    "    traincopy2 = traincopy2.iloc[:,[1,6,7,8]]\n",
    "    # Lets take all the numerical features i.e Applicant Income\n",
    "    # Loan amount and Coapplicant Income\n",
    "    features = traincopy.columns[6:9]\n",
    "    # Need to turn the string into ints\n",
    "    # Make 0 rep male and 1 rep female through pd.factorize\n",
    "    y, _ = pd.factorize(traincopy[var])\n",
    "    # Create initial model\n",
    "    model = RandomForestClassifier(n_estimators=500)\n",
    "    # Fit the model on the original data\n",
    "    model.fit(traincopy[features],y)\n",
    "    # Get predictions on blank data\n",
    "    preds = model.predict(traincopy2[features])\n",
    "    return preds\n",
    "\n",
    "predictnas('Dependents')"
   ]
  },
  {
   "cell_type": "code",
   "execution_count": 444,
   "metadata": {
    "collapsed": false
   },
   "outputs": [],
   "source": [
    "# Let's factorize everything to get a better random forest result\n",
    "# Get rid of the Load ID column first \n",
    "IDs = traincopy.Loan_ID.copy()\n",
    "traincopy.drop('Loan_ID', axis=1, inplace=True)\n",
    "for (train_name, train_series) in traincopy.iteritems():\n",
    "    if (train_series.dtype == 'O'):\n",
    "        #for objects: factorize\n",
    "        traincopy[train_name], tmp_indexer = pd.factorize(traincopy[train_name])\n",
    "traincopy['Loan_ID']=IDs"
   ]
  },
  {
   "cell_type": "code",
   "execution_count": 445,
   "metadata": {
    "collapsed": false
   },
   "outputs": [
    {
     "data": {
      "text/plain": [
       "array([0, 0, 0, 0, 0, 0, 0, 0, 0, 0, 0, 1, 0, 0, 2])"
      ]
     },
     "execution_count": 445,
     "metadata": {},
     "output_type": "execute_result"
    }
   ],
   "source": [
    "# Instead of just factorizing the variable to be filled\n",
    "# Might be able to get more accurate results factorizing all variables and using\n",
    "# Them to predict the NA's\n",
    "# factorizePD factorize all columns that are objects \n",
    "\n",
    "from sklearn.ensemble import RandomForestClassifier\n",
    "\n",
    "def predictnas(var):\n",
    "    \n",
    "    # First take values where var is NA (test data)\n",
    "    traincopy2 = train.copy()\n",
    "    traincopy2 = traincopy2[traincopy2[var].isnull()]\n",
    "    # Drop loan id as it is an object, but not a factor\n",
    "    traincopy2.drop('Loan_ID', axis=1, inplace=True)\n",
    "    \n",
    "    # Should check if data is available i.e hasn't already been filled\n",
    "    # If the data has been filled with provide an error otherwise\n",
    "    if sum(traincopy2[var].isnull()) == 0:\n",
    "        return \"No NA's present, pick another variable\"\n",
    "    \n",
    "    # Prep the data\n",
    "    # Want values where the gender is present (training data)\n",
    "    \n",
    "    traincopy = train.copy()\n",
    "    traincopy = traincopy[traincopy[var].notnull()]\n",
    "    traincopy.drop('Loan_ID', axis=1, inplace=True)\n",
    "    \n",
    "           \n",
    "    # Factorize train and test data\n",
    "    \n",
    "    traincopy = factorizePD(traincopy)\n",
    "    traincopy2 = factorizePD(traincopy2)\n",
    "        \n",
    "    # Want the factorized version to test around \n",
    "    y, _= pd.factorize(traincopy[var])\n",
    "    # Take all columns with no NA's\n",
    "    want = traincopy.apply(lambda x: sum(x.isnull())).copy() == 0\n",
    "    # Don't use the variable column \n",
    "    features = traincopy.columns[want].drop(var).copy()\n",
    "    # Create initial model\n",
    "    model = RandomForestClassifier(n_estimators=500)\n",
    "    # Fit the model on the original data\n",
    "    model.fit(traincopy[features],y)\n",
    "    # Get predictions on blank data\n",
    "    preds = model.predict(traincopy2[features])\n",
    "    return preds\n",
    "\n",
    "def factorizePD(df):\n",
    "    for(df_name, df_series) in df.iteritems():\n",
    "        # Check if factor\n",
    "        if (df_series.dtype == 'object'):\n",
    "            df[df_name], tmp_indexer = pd.factorize(df[df_name])\n",
    "    return df\n",
    "\n",
    "predsDep = predictnas('Dependents')\n",
    "predsDep"
   ]
  },
  {
   "cell_type": "code",
   "execution_count": 446,
   "metadata": {
    "collapsed": false
   },
   "outputs": [
    {
     "name": "stdout",
     "output_type": "stream",
     "text": [
      "0      0\n",
      "1      1\n",
      "2      0\n",
      "3      0\n",
      "4      0\n",
      "5      2\n",
      "6      0\n",
      "7     3+\n",
      "8      2\n",
      "9      1\n",
      "10     2\n",
      "11     2\n",
      "12     2\n",
      "13     0\n",
      "14     2\n",
      "15     0\n",
      "16     1\n",
      "17     0\n",
      "18     0\n",
      "19     0\n",
      "Name: Dependents, dtype: object\n",
      "\n",
      "Sanity check: 0\n"
     ]
    }
   ],
   "source": [
    "# Lets append to the training data set\n",
    "# Since there's no 3 + no worry about converting the training data to factors yet\n",
    "\n",
    "for i in predsDep:\n",
    "    train.Dependents.fillna(predsDep[i],inplace=True)\n",
    "\n",
    "print train.Dependents.head(20)\n",
    "print\n",
    "print \"Sanity check: \" + str(sum(train.Dependents.isnull()))\n"
   ]
  },
  {
   "cell_type": "code",
   "execution_count": 447,
   "metadata": {
    "collapsed": false
   },
   "outputs": [
    {
     "data": {
      "text/plain": [
       "Loan_ID                 0\n",
       "Gender                  0\n",
       "Married                 0\n",
       "Dependents              0\n",
       "Education               0\n",
       "Self_Employed           0\n",
       "ApplicantIncome         0\n",
       "CoapplicantIncome       0\n",
       "LoanAmount              0\n",
       "Loan_Amount_Term       14\n",
       "Credit_History         50\n",
       "Property_Area           0\n",
       "Loan_Status             0\n",
       "LoanAmount_log          0\n",
       "LoanBox                 0\n",
       "ApplicantIncome_log     0\n",
       "dtype: int64"
      ]
     },
     "execution_count": 447,
     "metadata": {},
     "output_type": "execute_result"
    }
   ],
   "source": [
    "# Whats left?\n",
    "train.apply(lambda x: sum(x.isnull()),axis=0)"
   ]
  },
  {
   "cell_type": "code",
   "execution_count": 448,
   "metadata": {
    "collapsed": false
   },
   "outputs": [
    {
     "data": {
      "text/html": [
       "<div>\n",
       "<table border=\"1\" class=\"dataframe\">\n",
       "  <thead>\n",
       "    <tr style=\"text-align: right;\">\n",
       "      <th></th>\n",
       "      <th>Loan_ID</th>\n",
       "      <th>Gender</th>\n",
       "      <th>Married</th>\n",
       "      <th>Dependents</th>\n",
       "      <th>Education</th>\n",
       "      <th>Self_Employed</th>\n",
       "      <th>ApplicantIncome</th>\n",
       "      <th>CoapplicantIncome</th>\n",
       "      <th>LoanAmount</th>\n",
       "      <th>Loan_Amount_Term</th>\n",
       "      <th>Credit_History</th>\n",
       "      <th>Property_Area</th>\n",
       "      <th>Loan_Status</th>\n",
       "      <th>LoanAmount_log</th>\n",
       "      <th>LoanBox</th>\n",
       "      <th>ApplicantIncome_log</th>\n",
       "    </tr>\n",
       "  </thead>\n",
       "  <tbody>\n",
       "    <tr>\n",
       "      <th>19</th>\n",
       "      <td>LP001041</td>\n",
       "      <td>0</td>\n",
       "      <td>Yes</td>\n",
       "      <td>0</td>\n",
       "      <td>Graduate</td>\n",
       "      <td>No</td>\n",
       "      <td>2600</td>\n",
       "      <td>3500.0</td>\n",
       "      <td>115.0</td>\n",
       "      <td>NaN</td>\n",
       "      <td>1.0</td>\n",
       "      <td>Urban</td>\n",
       "      <td>Y</td>\n",
       "      <td>4.744932</td>\n",
       "      <td>5.688394</td>\n",
       "      <td>7.863267</td>\n",
       "    </tr>\n",
       "    <tr>\n",
       "      <th>36</th>\n",
       "      <td>LP001109</td>\n",
       "      <td>0</td>\n",
       "      <td>Yes</td>\n",
       "      <td>0</td>\n",
       "      <td>Graduate</td>\n",
       "      <td>No</td>\n",
       "      <td>1828</td>\n",
       "      <td>1330.0</td>\n",
       "      <td>100.0</td>\n",
       "      <td>NaN</td>\n",
       "      <td>0.0</td>\n",
       "      <td>Urban</td>\n",
       "      <td>N</td>\n",
       "      <td>4.605170</td>\n",
       "      <td>5.490620</td>\n",
       "      <td>7.510978</td>\n",
       "    </tr>\n",
       "    <tr>\n",
       "      <th>44</th>\n",
       "      <td>LP001136</td>\n",
       "      <td>0</td>\n",
       "      <td>Yes</td>\n",
       "      <td>0</td>\n",
       "      <td>Not Graduate</td>\n",
       "      <td>Yes</td>\n",
       "      <td>4695</td>\n",
       "      <td>0.0</td>\n",
       "      <td>96.0</td>\n",
       "      <td>NaN</td>\n",
       "      <td>1.0</td>\n",
       "      <td>Urban</td>\n",
       "      <td>Y</td>\n",
       "      <td>4.564348</td>\n",
       "      <td>5.433241</td>\n",
       "      <td>8.454253</td>\n",
       "    </tr>\n",
       "    <tr>\n",
       "      <th>45</th>\n",
       "      <td>LP001137</td>\n",
       "      <td>1</td>\n",
       "      <td>No</td>\n",
       "      <td>0</td>\n",
       "      <td>Graduate</td>\n",
       "      <td>No</td>\n",
       "      <td>3410</td>\n",
       "      <td>0.0</td>\n",
       "      <td>88.0</td>\n",
       "      <td>NaN</td>\n",
       "      <td>1.0</td>\n",
       "      <td>Urban</td>\n",
       "      <td>Y</td>\n",
       "      <td>4.477337</td>\n",
       "      <td>5.311516</td>\n",
       "      <td>8.134468</td>\n",
       "    </tr>\n",
       "    <tr>\n",
       "      <th>73</th>\n",
       "      <td>LP001250</td>\n",
       "      <td>0</td>\n",
       "      <td>Yes</td>\n",
       "      <td>3+</td>\n",
       "      <td>Not Graduate</td>\n",
       "      <td>No</td>\n",
       "      <td>4755</td>\n",
       "      <td>0.0</td>\n",
       "      <td>95.0</td>\n",
       "      <td>NaN</td>\n",
       "      <td>0.0</td>\n",
       "      <td>Semiurban</td>\n",
       "      <td>N</td>\n",
       "      <td>4.553877</td>\n",
       "      <td>5.418550</td>\n",
       "      <td>8.466952</td>\n",
       "    </tr>\n",
       "    <tr>\n",
       "      <th>112</th>\n",
       "      <td>LP001391</td>\n",
       "      <td>0</td>\n",
       "      <td>Yes</td>\n",
       "      <td>0</td>\n",
       "      <td>Not Graduate</td>\n",
       "      <td>No</td>\n",
       "      <td>3572</td>\n",
       "      <td>4114.0</td>\n",
       "      <td>152.0</td>\n",
       "      <td>NaN</td>\n",
       "      <td>0.0</td>\n",
       "      <td>Rural</td>\n",
       "      <td>N</td>\n",
       "      <td>5.023881</td>\n",
       "      <td>6.089316</td>\n",
       "      <td>8.180881</td>\n",
       "    </tr>\n",
       "    <tr>\n",
       "      <th>165</th>\n",
       "      <td>LP001574</td>\n",
       "      <td>0</td>\n",
       "      <td>Yes</td>\n",
       "      <td>0</td>\n",
       "      <td>Graduate</td>\n",
       "      <td>No</td>\n",
       "      <td>3707</td>\n",
       "      <td>3166.0</td>\n",
       "      <td>182.0</td>\n",
       "      <td>NaN</td>\n",
       "      <td>1.0</td>\n",
       "      <td>Rural</td>\n",
       "      <td>Y</td>\n",
       "      <td>5.204007</td>\n",
       "      <td>6.352653</td>\n",
       "      <td>8.217978</td>\n",
       "    </tr>\n",
       "    <tr>\n",
       "      <th>197</th>\n",
       "      <td>LP001669</td>\n",
       "      <td>1</td>\n",
       "      <td>No</td>\n",
       "      <td>0</td>\n",
       "      <td>Not Graduate</td>\n",
       "      <td>No</td>\n",
       "      <td>1907</td>\n",
       "      <td>2365.0</td>\n",
       "      <td>120.0</td>\n",
       "      <td>NaN</td>\n",
       "      <td>1.0</td>\n",
       "      <td>Urban</td>\n",
       "      <td>Y</td>\n",
       "      <td>4.787492</td>\n",
       "      <td>5.749027</td>\n",
       "      <td>7.553287</td>\n",
       "    </tr>\n",
       "    <tr>\n",
       "      <th>223</th>\n",
       "      <td>LP001749</td>\n",
       "      <td>0</td>\n",
       "      <td>Yes</td>\n",
       "      <td>0</td>\n",
       "      <td>Graduate</td>\n",
       "      <td>No</td>\n",
       "      <td>7578</td>\n",
       "      <td>1010.0</td>\n",
       "      <td>175.0</td>\n",
       "      <td>NaN</td>\n",
       "      <td>1.0</td>\n",
       "      <td>Semiurban</td>\n",
       "      <td>Y</td>\n",
       "      <td>5.164786</td>\n",
       "      <td>6.295013</td>\n",
       "      <td>8.933005</td>\n",
       "    </tr>\n",
       "    <tr>\n",
       "      <th>232</th>\n",
       "      <td>LP001770</td>\n",
       "      <td>0</td>\n",
       "      <td>No</td>\n",
       "      <td>0</td>\n",
       "      <td>Not Graduate</td>\n",
       "      <td>No</td>\n",
       "      <td>3189</td>\n",
       "      <td>2598.0</td>\n",
       "      <td>120.0</td>\n",
       "      <td>NaN</td>\n",
       "      <td>1.0</td>\n",
       "      <td>Rural</td>\n",
       "      <td>Y</td>\n",
       "      <td>4.787492</td>\n",
       "      <td>5.749027</td>\n",
       "      <td>8.067463</td>\n",
       "    </tr>\n",
       "    <tr>\n",
       "      <th>335</th>\n",
       "      <td>LP002106</td>\n",
       "      <td>0</td>\n",
       "      <td>Yes</td>\n",
       "      <td>0</td>\n",
       "      <td>Graduate</td>\n",
       "      <td>Yes</td>\n",
       "      <td>5503</td>\n",
       "      <td>4490.0</td>\n",
       "      <td>70.0</td>\n",
       "      <td>NaN</td>\n",
       "      <td>1.0</td>\n",
       "      <td>Semiurban</td>\n",
       "      <td>Y</td>\n",
       "      <td>4.248495</td>\n",
       "      <td>4.995106</td>\n",
       "      <td>8.613049</td>\n",
       "    </tr>\n",
       "    <tr>\n",
       "      <th>367</th>\n",
       "      <td>LP002188</td>\n",
       "      <td>0</td>\n",
       "      <td>No</td>\n",
       "      <td>0</td>\n",
       "      <td>Graduate</td>\n",
       "      <td>No</td>\n",
       "      <td>5124</td>\n",
       "      <td>0.0</td>\n",
       "      <td>124.0</td>\n",
       "      <td>NaN</td>\n",
       "      <td>0.0</td>\n",
       "      <td>Rural</td>\n",
       "      <td>N</td>\n",
       "      <td>4.820282</td>\n",
       "      <td>5.795873</td>\n",
       "      <td>8.541691</td>\n",
       "    </tr>\n",
       "    <tr>\n",
       "      <th>421</th>\n",
       "      <td>LP002357</td>\n",
       "      <td>1</td>\n",
       "      <td>No</td>\n",
       "      <td>0</td>\n",
       "      <td>Not Graduate</td>\n",
       "      <td>No</td>\n",
       "      <td>2720</td>\n",
       "      <td>0.0</td>\n",
       "      <td>80.0</td>\n",
       "      <td>NaN</td>\n",
       "      <td>0.0</td>\n",
       "      <td>Urban</td>\n",
       "      <td>N</td>\n",
       "      <td>4.382027</td>\n",
       "      <td>5.179080</td>\n",
       "      <td>7.908387</td>\n",
       "    </tr>\n",
       "    <tr>\n",
       "      <th>423</th>\n",
       "      <td>LP002362</td>\n",
       "      <td>0</td>\n",
       "      <td>Yes</td>\n",
       "      <td>1</td>\n",
       "      <td>Graduate</td>\n",
       "      <td>No</td>\n",
       "      <td>7250</td>\n",
       "      <td>1667.0</td>\n",
       "      <td>110.0</td>\n",
       "      <td>NaN</td>\n",
       "      <td>0.0</td>\n",
       "      <td>Urban</td>\n",
       "      <td>N</td>\n",
       "      <td>4.700480</td>\n",
       "      <td>5.625268</td>\n",
       "      <td>8.888757</td>\n",
       "    </tr>\n",
       "  </tbody>\n",
       "</table>\n",
       "</div>"
      ],
      "text/plain": [
       "      Loan_ID Gender Married Dependents     Education Self_Employed  \\\n",
       "19   LP001041      0     Yes          0      Graduate            No   \n",
       "36   LP001109      0     Yes          0      Graduate            No   \n",
       "44   LP001136      0     Yes          0  Not Graduate           Yes   \n",
       "45   LP001137      1      No          0      Graduate            No   \n",
       "73   LP001250      0     Yes         3+  Not Graduate            No   \n",
       "112  LP001391      0     Yes          0  Not Graduate            No   \n",
       "165  LP001574      0     Yes          0      Graduate            No   \n",
       "197  LP001669      1      No          0  Not Graduate            No   \n",
       "223  LP001749      0     Yes          0      Graduate            No   \n",
       "232  LP001770      0      No          0  Not Graduate            No   \n",
       "335  LP002106      0     Yes          0      Graduate           Yes   \n",
       "367  LP002188      0      No          0      Graduate            No   \n",
       "421  LP002357      1      No          0  Not Graduate            No   \n",
       "423  LP002362      0     Yes          1      Graduate            No   \n",
       "\n",
       "     ApplicantIncome  CoapplicantIncome  LoanAmount  Loan_Amount_Term  \\\n",
       "19              2600             3500.0       115.0               NaN   \n",
       "36              1828             1330.0       100.0               NaN   \n",
       "44              4695                0.0        96.0               NaN   \n",
       "45              3410                0.0        88.0               NaN   \n",
       "73              4755                0.0        95.0               NaN   \n",
       "112             3572             4114.0       152.0               NaN   \n",
       "165             3707             3166.0       182.0               NaN   \n",
       "197             1907             2365.0       120.0               NaN   \n",
       "223             7578             1010.0       175.0               NaN   \n",
       "232             3189             2598.0       120.0               NaN   \n",
       "335             5503             4490.0        70.0               NaN   \n",
       "367             5124                0.0       124.0               NaN   \n",
       "421             2720                0.0        80.0               NaN   \n",
       "423             7250             1667.0       110.0               NaN   \n",
       "\n",
       "     Credit_History Property_Area Loan_Status  LoanAmount_log   LoanBox  \\\n",
       "19              1.0         Urban           Y        4.744932  5.688394   \n",
       "36              0.0         Urban           N        4.605170  5.490620   \n",
       "44              1.0         Urban           Y        4.564348  5.433241   \n",
       "45              1.0         Urban           Y        4.477337  5.311516   \n",
       "73              0.0     Semiurban           N        4.553877  5.418550   \n",
       "112             0.0         Rural           N        5.023881  6.089316   \n",
       "165             1.0         Rural           Y        5.204007  6.352653   \n",
       "197             1.0         Urban           Y        4.787492  5.749027   \n",
       "223             1.0     Semiurban           Y        5.164786  6.295013   \n",
       "232             1.0         Rural           Y        4.787492  5.749027   \n",
       "335             1.0     Semiurban           Y        4.248495  4.995106   \n",
       "367             0.0         Rural           N        4.820282  5.795873   \n",
       "421             0.0         Urban           N        4.382027  5.179080   \n",
       "423             0.0         Urban           N        4.700480  5.625268   \n",
       "\n",
       "     ApplicantIncome_log  \n",
       "19              7.863267  \n",
       "36              7.510978  \n",
       "44              8.454253  \n",
       "45              8.134468  \n",
       "73              8.466952  \n",
       "112             8.180881  \n",
       "165             8.217978  \n",
       "197             7.553287  \n",
       "223             8.933005  \n",
       "232             8.067463  \n",
       "335             8.613049  \n",
       "367             8.541691  \n",
       "421             7.908387  \n",
       "423             8.888757  "
      ]
     },
     "execution_count": 448,
     "metadata": {},
     "output_type": "execute_result"
    }
   ],
   "source": [
    "# Take a look at loan amount term\n",
    "train[train.Loan_Amount_Term.isnull()]"
   ]
  },
  {
   "cell_type": "code",
   "execution_count": 449,
   "metadata": {
    "collapsed": false
   },
   "outputs": [],
   "source": [
    "# Seems to make sense if no loan was given then the term should be 0\n",
    "want = (train.Loan_Amount_Term.isnull()) & (train.Loan_Status == 'N')\n",
    "train.Loan_Amount_Term[want] = 0"
   ]
  },
  {
   "cell_type": "code",
   "execution_count": 450,
   "metadata": {
    "collapsed": false
   },
   "outputs": [
    {
     "data": {
      "text/html": [
       "<div>\n",
       "<table border=\"1\" class=\"dataframe\">\n",
       "  <thead>\n",
       "    <tr style=\"text-align: right;\">\n",
       "      <th></th>\n",
       "      <th>Loan_ID</th>\n",
       "      <th>Gender</th>\n",
       "      <th>Married</th>\n",
       "      <th>Dependents</th>\n",
       "      <th>Education</th>\n",
       "      <th>Self_Employed</th>\n",
       "      <th>ApplicantIncome</th>\n",
       "      <th>CoapplicantIncome</th>\n",
       "      <th>LoanAmount</th>\n",
       "      <th>Loan_Amount_Term</th>\n",
       "      <th>Credit_History</th>\n",
       "      <th>Property_Area</th>\n",
       "      <th>Loan_Status</th>\n",
       "      <th>LoanAmount_log</th>\n",
       "      <th>LoanBox</th>\n",
       "      <th>ApplicantIncome_log</th>\n",
       "    </tr>\n",
       "  </thead>\n",
       "  <tbody>\n",
       "    <tr>\n",
       "      <th>36</th>\n",
       "      <td>LP001109</td>\n",
       "      <td>0</td>\n",
       "      <td>Yes</td>\n",
       "      <td>0</td>\n",
       "      <td>Graduate</td>\n",
       "      <td>No</td>\n",
       "      <td>1828</td>\n",
       "      <td>1330.0</td>\n",
       "      <td>100.0</td>\n",
       "      <td>0.0</td>\n",
       "      <td>0.0</td>\n",
       "      <td>Urban</td>\n",
       "      <td>N</td>\n",
       "      <td>4.605170</td>\n",
       "      <td>5.490620</td>\n",
       "      <td>7.510978</td>\n",
       "    </tr>\n",
       "    <tr>\n",
       "      <th>73</th>\n",
       "      <td>LP001250</td>\n",
       "      <td>0</td>\n",
       "      <td>Yes</td>\n",
       "      <td>3+</td>\n",
       "      <td>Not Graduate</td>\n",
       "      <td>No</td>\n",
       "      <td>4755</td>\n",
       "      <td>0.0</td>\n",
       "      <td>95.0</td>\n",
       "      <td>0.0</td>\n",
       "      <td>0.0</td>\n",
       "      <td>Semiurban</td>\n",
       "      <td>N</td>\n",
       "      <td>4.553877</td>\n",
       "      <td>5.418550</td>\n",
       "      <td>8.466952</td>\n",
       "    </tr>\n",
       "    <tr>\n",
       "      <th>112</th>\n",
       "      <td>LP001391</td>\n",
       "      <td>0</td>\n",
       "      <td>Yes</td>\n",
       "      <td>0</td>\n",
       "      <td>Not Graduate</td>\n",
       "      <td>No</td>\n",
       "      <td>3572</td>\n",
       "      <td>4114.0</td>\n",
       "      <td>152.0</td>\n",
       "      <td>0.0</td>\n",
       "      <td>0.0</td>\n",
       "      <td>Rural</td>\n",
       "      <td>N</td>\n",
       "      <td>5.023881</td>\n",
       "      <td>6.089316</td>\n",
       "      <td>8.180881</td>\n",
       "    </tr>\n",
       "    <tr>\n",
       "      <th>367</th>\n",
       "      <td>LP002188</td>\n",
       "      <td>0</td>\n",
       "      <td>No</td>\n",
       "      <td>0</td>\n",
       "      <td>Graduate</td>\n",
       "      <td>No</td>\n",
       "      <td>5124</td>\n",
       "      <td>0.0</td>\n",
       "      <td>124.0</td>\n",
       "      <td>0.0</td>\n",
       "      <td>0.0</td>\n",
       "      <td>Rural</td>\n",
       "      <td>N</td>\n",
       "      <td>4.820282</td>\n",
       "      <td>5.795873</td>\n",
       "      <td>8.541691</td>\n",
       "    </tr>\n",
       "    <tr>\n",
       "      <th>421</th>\n",
       "      <td>LP002357</td>\n",
       "      <td>1</td>\n",
       "      <td>No</td>\n",
       "      <td>0</td>\n",
       "      <td>Not Graduate</td>\n",
       "      <td>No</td>\n",
       "      <td>2720</td>\n",
       "      <td>0.0</td>\n",
       "      <td>80.0</td>\n",
       "      <td>0.0</td>\n",
       "      <td>0.0</td>\n",
       "      <td>Urban</td>\n",
       "      <td>N</td>\n",
       "      <td>4.382027</td>\n",
       "      <td>5.179080</td>\n",
       "      <td>7.908387</td>\n",
       "    </tr>\n",
       "    <tr>\n",
       "      <th>423</th>\n",
       "      <td>LP002362</td>\n",
       "      <td>0</td>\n",
       "      <td>Yes</td>\n",
       "      <td>1</td>\n",
       "      <td>Graduate</td>\n",
       "      <td>No</td>\n",
       "      <td>7250</td>\n",
       "      <td>1667.0</td>\n",
       "      <td>110.0</td>\n",
       "      <td>0.0</td>\n",
       "      <td>0.0</td>\n",
       "      <td>Urban</td>\n",
       "      <td>N</td>\n",
       "      <td>4.700480</td>\n",
       "      <td>5.625268</td>\n",
       "      <td>8.888757</td>\n",
       "    </tr>\n",
       "  </tbody>\n",
       "</table>\n",
       "</div>"
      ],
      "text/plain": [
       "      Loan_ID Gender Married Dependents     Education Self_Employed  \\\n",
       "36   LP001109      0     Yes          0      Graduate            No   \n",
       "73   LP001250      0     Yes         3+  Not Graduate            No   \n",
       "112  LP001391      0     Yes          0  Not Graduate            No   \n",
       "367  LP002188      0      No          0      Graduate            No   \n",
       "421  LP002357      1      No          0  Not Graduate            No   \n",
       "423  LP002362      0     Yes          1      Graduate            No   \n",
       "\n",
       "     ApplicantIncome  CoapplicantIncome  LoanAmount  Loan_Amount_Term  \\\n",
       "36              1828             1330.0       100.0               0.0   \n",
       "73              4755                0.0        95.0               0.0   \n",
       "112             3572             4114.0       152.0               0.0   \n",
       "367             5124                0.0       124.0               0.0   \n",
       "421             2720                0.0        80.0               0.0   \n",
       "423             7250             1667.0       110.0               0.0   \n",
       "\n",
       "     Credit_History Property_Area Loan_Status  LoanAmount_log   LoanBox  \\\n",
       "36              0.0         Urban           N        4.605170  5.490620   \n",
       "73              0.0     Semiurban           N        4.553877  5.418550   \n",
       "112             0.0         Rural           N        5.023881  6.089316   \n",
       "367             0.0         Rural           N        4.820282  5.795873   \n",
       "421             0.0         Urban           N        4.382027  5.179080   \n",
       "423             0.0         Urban           N        4.700480  5.625268   \n",
       "\n",
       "     ApplicantIncome_log  \n",
       "36              7.510978  \n",
       "73              8.466952  \n",
       "112             8.180881  \n",
       "367             8.541691  \n",
       "421             7.908387  \n",
       "423             8.888757  "
      ]
     },
     "execution_count": 450,
     "metadata": {},
     "output_type": "execute_result"
    }
   ],
   "source": [
    "# Check\n",
    "train[want]"
   ]
  },
  {
   "cell_type": "code",
   "execution_count": 451,
   "metadata": {
    "collapsed": false
   },
   "outputs": [
    {
     "name": "stdout",
     "output_type": "stream",
     "text": [
      "360.0    512\n",
      "180.0     44\n",
      "480.0     15\n",
      "300.0     13\n",
      "0.0        6\n",
      "240.0      4\n",
      "84.0       4\n",
      "120.0      3\n",
      "60.0       2\n",
      "36.0       2\n",
      "12.0       1\n",
      "Name: Loan_Amount_Term, dtype: int64\n"
     ]
    }
   ],
   "source": [
    "# Check frequency of whats left\n",
    "train[train.Loan_Amount_Term.isnull()]\n",
    "print train.Loan_Amount_Term.value_counts()"
   ]
  },
  {
   "cell_type": "code",
   "execution_count": 452,
   "metadata": {
    "collapsed": false
   },
   "outputs": [
    {
     "name": "stdout",
     "output_type": "stream",
     "text": [
      "0\n"
     ]
    }
   ],
   "source": [
    "# 360 seems the most frequent, fill the rest of NA's with 360\n",
    "train.Loan_Amount_Term.fillna(360, inplace=True)\n",
    "print sum(train.Loan_Amount_Term.isnull())\n"
   ]
  },
  {
   "cell_type": "code",
   "execution_count": 453,
   "metadata": {
    "collapsed": false
   },
   "outputs": [
    {
     "name": "stdout",
     "output_type": "stream",
     "text": [
      "1.0    475\n",
      "0.0     89\n",
      "Name: Credit_History, dtype: int64\n"
     ]
    },
    {
     "data": {
      "text/plain": [
       "Credit_History\n",
       "0.0    0.078652\n",
       "1.0    0.795789\n",
       "Name: Loan_Status, dtype: float64"
      ]
     },
     "execution_count": 453,
     "metadata": {},
     "output_type": "execute_result"
    }
   ],
   "source": [
    "# Credit history is the only one left\n",
    "# Look at counts\n",
    "print train.Credit_History.value_counts()\n",
    "# Check relation with Loan Status in a freq table\n",
    "temp2 = train.pivot_table(values='Loan_Status',index=['Credit_History'], aggfunc = lambda x: x.map({'Y':1, 'N':0}).mean())\n",
    "temp2"
   ]
  },
  {
   "cell_type": "code",
   "execution_count": 454,
   "metadata": {
    "collapsed": false
   },
   "outputs": [
    {
     "data": {
      "text/plain": [
       "<matplotlib.axes._subplots.AxesSubplot at 0x7f9bd41f5650>"
      ]
     },
     "execution_count": 454,
     "metadata": {},
     "output_type": "execute_result"
    },
    {
     "data": {
      "image/png": "[encoded data removed]",
      "text/plain": [
       "<matplotlib.figure.Figure at 0x7f9bd4dec310>"
      ]
     },
     "metadata": {},
     "output_type": "display_data"
    }
   ],
   "source": [
    "# To visualize the frequency table\n",
    "import seaborn as sns\n",
    "\n",
    "sns.stripplot(x='Loan_Status', y='Credit_History', data=train, jitter=True)"
   ]
  },
  {
   "cell_type": "code",
   "execution_count": 455,
   "metadata": {
    "collapsed": false
   },
   "outputs": [
    {
     "data": {
      "text/plain": [
       "<matplotlib.axes._subplots.AxesSubplot at 0x7f9bd444a210>"
      ]
     },
     "execution_count": 455,
     "metadata": {},
     "output_type": "execute_result"
    },
    {
     "data": {
      "image/png": "[encoded data removed]",
      "text/plain": [
       "<matplotlib.figure.Figure at 0x7f9bd44b3b90>"
      ]
     },
     "metadata": {},
     "output_type": "display_data"
    }
   ],
   "source": [
    "# Try a violin plot, strip plot wasn't the clearest as all answers are either 1 or 0\n",
    "\n",
    "sns.violinplot(x='Loan_Status', y='Credit_History', data=train)"
   ]
  },
  {
   "cell_type": "code",
   "execution_count": 456,
   "metadata": {
    "collapsed": false
   },
   "outputs": [
    {
     "data": {
      "text/plain": [
       "Semiurban    233\n",
       "Urban        202\n",
       "Rural        179\n",
       "Name: Property_Area, dtype: int64"
      ]
     },
     "execution_count": 456,
     "metadata": {},
     "output_type": "execute_result"
    }
   ],
   "source": [
    "# Take a look at some other data to find a trend\n",
    "# Property seems like good colleratoral to fall back on if you can't pay your loan\n",
    "train.Property_Area.value_counts()"
   ]
  },
  {
   "cell_type": "code",
   "execution_count": 457,
   "metadata": {
    "collapsed": false
   },
   "outputs": [
    {
     "data": {
      "text/plain": [
       "<matplotlib.axes._subplots.AxesSubplot at 0x7f9bd419d550>"
      ]
     },
     "execution_count": 457,
     "metadata": {},
     "output_type": "execute_result"
    },
    {
     "data": {
      "image/png": "[encoded data removed]",
      "text/plain": [
       "<matplotlib.figure.Figure at 0x7f9bd3b1d850>"
      ]
     },
     "metadata": {},
     "output_type": "display_data"
    }
   ],
   "source": [
    "# Try a strip plot\n",
    "sns.stripplot(x=\"Property_Area\",y=\"Credit_History\", data=train, jitter=True)"
   ]
  },
  {
   "cell_type": "code",
   "execution_count": 458,
   "metadata": {
    "collapsed": false
   },
   "outputs": [
    {
     "data": {
      "text/plain": [
       "<matplotlib.axes._subplots.AxesSubplot at 0x7f9bd43e1790>"
      ]
     },
     "execution_count": 458,
     "metadata": {},
     "output_type": "execute_result"
    },
    {
     "data": {
      "image/png": "[encoded data removed]",
      "text/plain": [
       "<matplotlib.figure.Figure at 0x7f9bd4387510>"
      ]
     },
     "metadata": {},
     "output_type": "display_data"
    }
   ],
   "source": [
    "# Strip plot not the most information try a violin plot\n",
    "sns.violinplot(x=\"Property_Area\",y=\"Credit_History\", data=train)"
   ]
  },
  {
   "cell_type": "code",
   "execution_count": 459,
   "metadata": {
    "collapsed": false
   },
   "outputs": [
    {
     "name": "stdout",
     "output_type": "stream",
     "text": [
      "Possible 1's for Credit History: 37\n"
     ]
    },
    {
     "data": {
      "text/plain": [
       "array([0, 1, 1, 0, 0, 0, 0, 0, 0, 0, 0, 0, 0, 0, 0, 0, 0, 0, 0, 1, 0, 0, 0,\n",
       "       0, 0, 0, 0, 0, 0, 0, 0, 0, 0, 0, 0, 0, 0, 0, 0, 0, 0, 0, 0, 0, 0, 0,\n",
       "       0, 0, 0, 0])"
      ]
     },
     "execution_count": 459,
     "metadata": {},
     "output_type": "execute_result"
    }
   ],
   "source": [
    "# Looks like if you have your credit history your very likely to get a loan\n",
    "# Semi Urban also has the highest chance to produce a credit history, but the trend is not as defined \n",
    "# As the credit history to loan status correlation \n",
    "\n",
    "# Odds are we could make anyone with a 'Y' loan status have credit history\n",
    "# Find out how many people have no credit history but a loan\n",
    "\n",
    "print \"Possible 1's for Credit History: \" + str(sum((train.Credit_History.isnull()) & (train.Loan_Status == 'Y')))\n",
    "\n",
    "# Out of curosity let's compare to a random forest classifier \n",
    "# Try general prediction of all variables VS Credit History\n",
    "predsCred = predictnas('Credit_History')\n",
    "predsCred"
   ]
  },
  {
   "cell_type": "code",
   "execution_count": 460,
   "metadata": {
    "collapsed": false
   },
   "outputs": [
    {
     "data": {
      "text/plain": [
       "array([0, 1, 1, 0, 0, 0, 0, 0, 0, 0, 0, 0, 0, 0, 0, 0, 0, 0, 0, 1, 0, 0, 0,\n",
       "       0, 0, 0, 0, 0, 0, 0, 0, 0, 0, 0, 0, 0, 0, 0, 0, 0, 0, 1, 0, 0, 0, 0,\n",
       "       0, 0, 0, 0])"
      ]
     },
     "execution_count": 460,
     "metadata": {},
     "output_type": "execute_result"
    }
   ],
   "source": [
    "# That doesn't seem to back up our assumption, maybe test against less variables?\n",
    "\n",
    "# First take values where var is NA (test data)\n",
    "traincopy2 = train.copy()\n",
    "traincopy2 = traincopy2[traincopy2['Credit_History'].isnull()]\n",
    "# Drop loan id as it is an object, but not a factor\n",
    "traincopy2.drop('Loan_ID', axis=1, inplace=True)\n",
    "\n",
    "# Should check if data is available i.e hasn't already been filled\n",
    "# If the data has been filled with provide an error otherwise\n",
    "if sum(traincopy2['Credit_History'].isnull()) == 0:\n",
    "    print \"No NA's present, pick another variable\"\n",
    "\n",
    "# Prep the data\n",
    "# Want values where the gender is present (training data)\n",
    "\n",
    "traincopy = train.copy()\n",
    "traincopy = traincopy[traincopy['Credit_History'].notnull()]\n",
    "traincopy.drop('Loan_ID', axis=1, inplace=True)\n",
    "\n",
    "\n",
    "# Factorize train and test data\n",
    "\n",
    "traincopy = factorizePD(traincopy)\n",
    "traincopy2 = factorizePD(traincopy2)\n",
    "\n",
    "# Want the factorized version to test around \n",
    "y, _= pd.factorize(traincopy['Credit_History'])\n",
    "# Take all columns with no NA's\n",
    "want = traincopy.apply(lambda x: sum(x.isnull())).copy() == 0\n",
    "# Don't use the variable column \n",
    "features = traincopy.columns[want].drop('Credit_History').copy()\n",
    "# Create initial model\n",
    "model = RandomForestClassifier(n_estimators=500)\n",
    "# Fit the model on the original data\n",
    "model.fit(traincopy[features],y)\n",
    "# Get predictions on blank data\n",
    "preds = model.predict(traincopy2[features])\n",
    "preds\n"
   ]
  },
  {
   "cell_type": "code",
   "execution_count": 461,
   "metadata": {
    "collapsed": false
   },
   "outputs": [
    {
     "name": "stdout",
     "output_type": "stream",
     "text": [
      "Feature ranking:\n",
      "1. feature 10 (0.269992)\n",
      "2. feature 13 (0.110146)\n",
      "3. feature 5 (0.106388)\n",
      "4. feature 7 (0.089593)\n",
      "5. feature 12 (0.089008)\n",
      "6. feature 11 (0.082152)\n",
      "7. feature 6 (0.067498)\n",
      "8. feature 8 (0.046076)\n",
      "9. feature 2 (0.044260)\n",
      "10. feature 9 (0.035317)\n",
      "11. feature 3 (0.017152)\n",
      "12. feature 1 (0.016070)\n",
      "13. feature 4 (0.013880)\n",
      "14. feature 0 (0.012469)\n"
     ]
    },
    {
     "data": {
      "image/png": "[encoded data removed]",
      "text/plain": [
       "<matplotlib.figure.Figure at 0x7f9bd4c1ee50>"
      ]
     },
     "metadata": {},
     "output_type": "display_data"
    }
   ],
   "source": [
    "# Not quite there either\n",
    "# Perhaps we can make a variable importance plot\n",
    "\n",
    "# Can be either extra trees or random forest \n",
    "forest = RandomForestClassifier(n_estimators=250, random_state=0)\n",
    "y, _= pd.factorize(traincopy['Credit_History'])\n",
    "want = traincopy.apply(lambda x: sum(x.isnull())).copy() == 0\n",
    "# Don't use the variable column \n",
    "features = traincopy.columns[want].drop('Credit_History').copy()\n",
    "X = traincopy[features]\n",
    "forest.fit(X,y)\n",
    "importances = forest.feature_importances_\n",
    "\n",
    "std = np.std([tree.feature_importances_ for tree in forest.estimators_],\n",
    "             axis=0)\n",
    "indices = np.argsort(importances)[::-1]\n",
    "\n",
    "# Print the feature ranking\n",
    "print(\"Feature ranking:\")\n",
    "\n",
    "for f in range(X.shape[1]):\n",
    "    print(\"%d. feature %d (%f)\" % (f + 1, indices[f], importances[indices[f]]))\n",
    "\n",
    "# Plot the feature importances of the forest\n",
    "plt.figure()\n",
    "plt.title(\"Feature importances\")\n",
    "plt.bar(range(X.shape[1]), importances[indices],\n",
    "       color=\"r\", yerr=std[indices], align=\"center\")\n",
    "plt.xticks(range(X.shape[1]), indices)\n",
    "plt.xlim([-1, X.shape[1]])\n",
    "plt.show()"
   ]
  },
  {
   "cell_type": "code",
   "execution_count": 462,
   "metadata": {
    "collapsed": false
   },
   "outputs": [
    {
     "name": "stdout",
     "output_type": "stream",
     "text": [
      "Index([u'Loan_Status', u'ApplicantIncome_log', u'ApplicantIncome',\n",
      "       u'LoanAmount'],\n",
      "      dtype='object')\n"
     ]
    }
   ],
   "source": [
    "# Feature 10,13,5,7 seem the most important\n",
    "print features[[10,13,5,7]]"
   ]
  },
  {
   "cell_type": "code",
   "execution_count": 463,
   "metadata": {
    "collapsed": false
   },
   "outputs": [
    {
     "name": "stdout",
     "output_type": "stream",
     "text": [
      "13\n"
     ]
    }
   ],
   "source": [
    "# Seems like Loan_Status is the most important indicator, might as well go ahead and fill the \n",
    "# Yes Loan_Statuses with a 1.0 Credit_History\n",
    "\n",
    "want = (train.Credit_History.isnull()) & (train.Loan_Status == 'Y')\n",
    "train.Credit_History[want] = \"Y\"\n",
    "print sum(train.Credit_History.isnull())\n"
   ]
  },
  {
   "cell_type": "code",
   "execution_count": 464,
   "metadata": {
    "collapsed": false
   },
   "outputs": [
    {
     "data": {
      "text/plain": [
       "array([0, 0, 0, 0, 0, 0, 0, 1, 0, 0, 0, 0, 0])"
      ]
     },
     "execution_count": 464,
     "metadata": {},
     "output_type": "execute_result"
    }
   ],
   "source": [
    "# Let's predict the rest of the values with the best features\n",
    "\n",
    "# First take values where var is NA (test data)\n",
    "traincopy2 = train.copy()\n",
    "traincopy2 = traincopy2[traincopy2['Credit_History'].isnull()]\n",
    "# Drop loan id as it is an object, but not a factor\n",
    "traincopy2.drop('Loan_ID', axis=1, inplace=True)\n",
    "\n",
    "# Should check if data is available i.e hasn't already been filled\n",
    "# If the data has been filled with provide an error otherwise\n",
    "if sum(traincopy2['Credit_History'].isnull()) == 0:\n",
    "    print \"No NA's present, pick another variable\"\n",
    "\n",
    "# Prep the data\n",
    "# Want values where the gender is present (training data)\n",
    "\n",
    "traincopy = train.copy()\n",
    "traincopy = traincopy[traincopy['Credit_History'].notnull()]\n",
    "traincopy.drop('Loan_ID', axis=1, inplace=True)\n",
    "\n",
    "\n",
    "# Factorize train and test data\n",
    "\n",
    "traincopy = factorizePD(traincopy)\n",
    "traincopy2 = factorizePD(traincopy2)\n",
    "\n",
    "# Want the factorized version to test around \n",
    "y, _= pd.factorize(traincopy['Credit_History'])\n",
    "# Take all columns with no NA's\n",
    "want = traincopy.apply(lambda x: sum(x.isnull())).copy() == 0\n",
    "# Don't use the variable column \n",
    "features = traincopy.columns[want].drop('Credit_History').copy()[[10,13,5,7]]\n",
    "# Create initial model\n",
    "model = RandomForestClassifier(n_estimators=500)\n",
    "# Fit the model on the original data\n",
    "model.fit(traincopy[features],y)\n",
    "# Get predictions on blank data\n",
    "preds = model.predict(traincopy2[features])\n",
    "preds\n"
   ]
  },
  {
   "cell_type": "code",
   "execution_count": 465,
   "metadata": {
    "collapsed": false
   },
   "outputs": [
    {
     "name": "stdout",
     "output_type": "stream",
     "text": [
      "Loan_ID                0\n",
      "Gender                 0\n",
      "Married                0\n",
      "Dependents             0\n",
      "Education              0\n",
      "Self_Employed          0\n",
      "ApplicantIncome        0\n",
      "CoapplicantIncome      0\n",
      "LoanAmount             0\n",
      "Loan_Amount_Term       0\n",
      "Credit_History         0\n",
      "Property_Area          0\n",
      "Loan_Status            0\n",
      "LoanAmount_log         0\n",
      "LoanBox                0\n",
      "ApplicantIncome_log    0\n",
      "dtype: int64\n"
     ]
    }
   ],
   "source": [
    "# And fill the rest\n",
    "\n",
    "for i in preds:\n",
    "    train.Credit_History.fillna(preds[i], inplace=True)\n",
    "\n",
    "print train.apply(lambda x: sum(x.isnull()))"
   ]
  },
  {
   "cell_type": "code",
   "execution_count": 466,
   "metadata": {
    "collapsed": false
   },
   "outputs": [
    {
     "data": {
      "text/plain": [
       "Loan_ID                 object\n",
       "Gender                  object\n",
       "Married                 object\n",
       "Dependents              object\n",
       "Education               object\n",
       "Self_Employed           object\n",
       "ApplicantIncome          int64\n",
       "CoapplicantIncome      float64\n",
       "LoanAmount             float64\n",
       "Loan_Amount_Term       float64\n",
       "Credit_History          object\n",
       "Property_Area           object\n",
       "Loan_Status             object\n",
       "LoanAmount_log         float64\n",
       "LoanBox                float64\n",
       "ApplicantIncome_log    float64\n",
       "Total_Income           float64\n",
       "dtype: object"
      ]
     },
     "execution_count": 466,
     "metadata": {},
     "output_type": "execute_result"
    }
   ],
   "source": [
    "# Let's create some more features\n",
    "# Total Income Perhaps\n",
    "\n",
    "train['Total_Income'] = train['ApplicantIncome'] + train['CoapplicantIncome']\n",
    "train.Total_Income = pd.to_numeric(train.Total_Income, errors='coerce')\n",
    "#train.Total_Income = train.Total_Income.convert_objects(convert_numeric=True)\n",
    "train.dtypes"
   ]
  },
  {
   "cell_type": "code",
   "execution_count": 467,
   "metadata": {
    "collapsed": false
   },
   "outputs": [
    {
     "data": {
      "image/png": "[encoded data removed]",
      "text/plain": [
       "<matplotlib.figure.Figure at 0x7f9bd4b35e10>"
      ]
     },
     "metadata": {},
     "output_type": "display_data"
    }
   ],
   "source": [
    "# Looks like log is the best estimator\n",
    "# For some reason box cox produces only one value \n",
    "boxitcompare(train.Total_Income)\n",
    "\n"
   ]
  },
  {
   "cell_type": "code",
   "execution_count": 468,
   "metadata": {
    "collapsed": false
   },
   "outputs": [
    {
     "data": {
      "image/png": "[encoded data removed]",
      "text/plain": [
       "<matplotlib.figure.Figure at 0x7f9bd4b23750>"
      ]
     },
     "metadata": {},
     "output_type": "display_data"
    }
   ],
   "source": [
    "# Apperently if you have data around 0 or negative use the Inverse Hyperbolic Sine Transformation\n",
    "# http://robjhyndman.com/hyndsight/transformations/\n",
    "plt.hist(np.arcsinh(train.Total_Income),bins=20)\n",
    "plt.show()"
   ]
  },
  {
   "cell_type": "code",
   "execution_count": 469,
   "metadata": {
    "collapsed": true
   },
   "outputs": [],
   "source": [
    "# Looks more or less the same as the log graph\n",
    "# Let's use the log\n",
    "train['Total_Income_Log'] = np.log(train.Total_Income)"
   ]
  },
  {
   "cell_type": "code",
   "execution_count": 474,
   "metadata": {
    "collapsed": false
   },
   "outputs": [
    {
     "data": {
      "text/html": [
       "<div>\n",
       "<table border=\"1\" class=\"dataframe\">\n",
       "  <thead>\n",
       "    <tr style=\"text-align: right;\">\n",
       "      <th></th>\n",
       "      <th>Loan_ID</th>\n",
       "      <th>Gender</th>\n",
       "      <th>Married</th>\n",
       "      <th>Dependents</th>\n",
       "      <th>Education</th>\n",
       "      <th>Self_Employed</th>\n",
       "      <th>ApplicantIncome</th>\n",
       "      <th>CoapplicantIncome</th>\n",
       "      <th>LoanAmount</th>\n",
       "      <th>Loan_Amount_Term</th>\n",
       "      <th>Credit_History</th>\n",
       "      <th>Property_Area</th>\n",
       "      <th>Loan_Status</th>\n",
       "      <th>LoanAmount_log</th>\n",
       "      <th>LoanBox</th>\n",
       "      <th>ApplicantIncome_log</th>\n",
       "      <th>Total_Income</th>\n",
       "      <th>Total_Income_Log</th>\n",
       "    </tr>\n",
       "  </thead>\n",
       "  <tbody>\n",
       "    <tr>\n",
       "      <th>0</th>\n",
       "      <td>LP001002</td>\n",
       "      <td>0</td>\n",
       "      <td>0</td>\n",
       "      <td>0</td>\n",
       "      <td>0</td>\n",
       "      <td>0</td>\n",
       "      <td>5849</td>\n",
       "      <td>0.0</td>\n",
       "      <td>146.412162</td>\n",
       "      <td>360.0</td>\n",
       "      <td>0</td>\n",
       "      <td>0</td>\n",
       "      <td>0</td>\n",
       "      <td>4.986426</td>\n",
       "      <td>6.035000</td>\n",
       "      <td>8.674026</td>\n",
       "      <td>5849.0</td>\n",
       "      <td>8.674026</td>\n",
       "    </tr>\n",
       "    <tr>\n",
       "      <th>1</th>\n",
       "      <td>LP001003</td>\n",
       "      <td>0</td>\n",
       "      <td>1</td>\n",
       "      <td>1</td>\n",
       "      <td>0</td>\n",
       "      <td>0</td>\n",
       "      <td>4583</td>\n",
       "      <td>1508.0</td>\n",
       "      <td>128.000000</td>\n",
       "      <td>360.0</td>\n",
       "      <td>0</td>\n",
       "      <td>1</td>\n",
       "      <td>1</td>\n",
       "      <td>4.852030</td>\n",
       "      <td>5.841340</td>\n",
       "      <td>8.430109</td>\n",
       "      <td>6091.0</td>\n",
       "      <td>8.714568</td>\n",
       "    </tr>\n",
       "    <tr>\n",
       "      <th>2</th>\n",
       "      <td>LP001005</td>\n",
       "      <td>0</td>\n",
       "      <td>1</td>\n",
       "      <td>0</td>\n",
       "      <td>0</td>\n",
       "      <td>1</td>\n",
       "      <td>3000</td>\n",
       "      <td>0.0</td>\n",
       "      <td>66.000000</td>\n",
       "      <td>360.0</td>\n",
       "      <td>0</td>\n",
       "      <td>0</td>\n",
       "      <td>0</td>\n",
       "      <td>4.189655</td>\n",
       "      <td>4.914615</td>\n",
       "      <td>8.006368</td>\n",
       "      <td>3000.0</td>\n",
       "      <td>8.006368</td>\n",
       "    </tr>\n",
       "    <tr>\n",
       "      <th>3</th>\n",
       "      <td>LP001006</td>\n",
       "      <td>0</td>\n",
       "      <td>1</td>\n",
       "      <td>0</td>\n",
       "      <td>1</td>\n",
       "      <td>0</td>\n",
       "      <td>2583</td>\n",
       "      <td>2358.0</td>\n",
       "      <td>120.000000</td>\n",
       "      <td>360.0</td>\n",
       "      <td>0</td>\n",
       "      <td>0</td>\n",
       "      <td>0</td>\n",
       "      <td>4.787492</td>\n",
       "      <td>5.749027</td>\n",
       "      <td>7.856707</td>\n",
       "      <td>4941.0</td>\n",
       "      <td>8.505323</td>\n",
       "    </tr>\n",
       "    <tr>\n",
       "      <th>4</th>\n",
       "      <td>LP001008</td>\n",
       "      <td>0</td>\n",
       "      <td>0</td>\n",
       "      <td>0</td>\n",
       "      <td>0</td>\n",
       "      <td>0</td>\n",
       "      <td>6000</td>\n",
       "      <td>0.0</td>\n",
       "      <td>141.000000</td>\n",
       "      <td>360.0</td>\n",
       "      <td>0</td>\n",
       "      <td>0</td>\n",
       "      <td>0</td>\n",
       "      <td>4.948760</td>\n",
       "      <td>5.980529</td>\n",
       "      <td>8.699515</td>\n",
       "      <td>6000.0</td>\n",
       "      <td>8.699515</td>\n",
       "    </tr>\n",
       "  </tbody>\n",
       "</table>\n",
       "</div>"
      ],
      "text/plain": [
       "    Loan_ID  Gender  Married  Dependents  Education  Self_Employed  \\\n",
       "0  LP001002       0        0           0          0              0   \n",
       "1  LP001003       0        1           1          0              0   \n",
       "2  LP001005       0        1           0          0              1   \n",
       "3  LP001006       0        1           0          1              0   \n",
       "4  LP001008       0        0           0          0              0   \n",
       "\n",
       "   ApplicantIncome  CoapplicantIncome  LoanAmount  Loan_Amount_Term  \\\n",
       "0             5849                0.0  146.412162             360.0   \n",
       "1             4583             1508.0  128.000000             360.0   \n",
       "2             3000                0.0   66.000000             360.0   \n",
       "3             2583             2358.0  120.000000             360.0   \n",
       "4             6000                0.0  141.000000             360.0   \n",
       "\n",
       "   Credit_History  Property_Area  Loan_Status  LoanAmount_log   LoanBox  \\\n",
       "0               0              0            0        4.986426  6.035000   \n",
       "1               0              1            1        4.852030  5.841340   \n",
       "2               0              0            0        4.189655  4.914615   \n",
       "3               0              0            0        4.787492  5.749027   \n",
       "4               0              0            0        4.948760  5.980529   \n",
       "\n",
       "   ApplicantIncome_log  Total_Income  Total_Income_Log  \n",
       "0             8.674026        5849.0          8.674026  \n",
       "1             8.430109        6091.0          8.714568  \n",
       "2             8.006368        3000.0          8.006368  \n",
       "3             7.856707        4941.0          8.505323  \n",
       "4             8.699515        6000.0          8.699515  "
      ]
     },
     "execution_count": 474,
     "metadata": {},
     "output_type": "execute_result"
    }
   ],
   "source": [
    "# To get ready for predictions let's factorize train now\n",
    "train.drop('Loan_ID', axis=1, inplace=True)\n",
    "factorizePD(train)\n",
    "train.insert(0,'Loan_ID',IDs)\n",
    "train.head()"
   ]
  },
  {
   "cell_type": "code",
   "execution_count": 475,
   "metadata": {
    "collapsed": true
   },
   "outputs": [],
   "source": [
    "#This is an alternative way to factorize the dataframe:\n",
    "\n",
    "#from sklearn.preprocessing import LabelEncoder\n",
    "\n",
    "# Choose all columns with categorical variables with string inputs\n",
    "\n",
    "#var_mod = ['Gender','Married','Dependents','Education','Self_Employed','Property_Area','Loan_Status']\n",
    "\n",
    "# Create label encoder\n",
    "#le = LabelEncoder()\n",
    "\n",
    "# Run through each column\n",
    "\n",
    "#for i in var_mod:\n",
    "#    df[i] = le.fit_transform(df[i])\n",
    "#df.dtypes \n"
   ]
  },
  {
   "cell_type": "code",
   "execution_count": 476,
   "metadata": {
    "collapsed": true
   },
   "outputs": [],
   "source": [
    "# Import some models for Machine Learning Analysis\n",
    "from sklearn.linear_model import LogisticRegression\n",
    "from sklearn.cross_validation import KFold   #For K-fold cross validation\n",
    "from sklearn.ensemble import RandomForestClassifier\n",
    "from sklearn.tree import DecisionTreeClassifier, export_graphviz\n",
    "from sklearn import metrics"
   ]
  },
  {
   "cell_type": "code",
   "execution_count": 478,
   "metadata": {
    "collapsed": false
   },
   "outputs": [],
   "source": [
    "# Generic Function for Making a classification \n",
    "\n",
    "def classification_model(model, data, predictors, outcome):\n",
    "    # Fit the model\n",
    "    model.fit(data[predictors],data[outcome])\n",
    "    \n",
    "    # Make predictions on training set\n",
    "    predictions = model.predict(data[predictors])\n",
    "    \n",
    "    # Print Accuracy\n",
    "    accuracy = metrics.accuracy_score(predictions,data[outcome])\n",
    "    print \"Accuracy : %s\" % \"{0:.3%}\".format(accuracy)\n",
    "    \n",
    "    #Perform k-fold cross-validation with 5 folds\n",
    "    kf = KFold(data.shape[0], n_folds=5)\n",
    "    error = []\n",
    "    for train, test in kf:\n",
    "        # Filter training data\n",
    "        train_predictors = (data[predictors].iloc[train,:])\n",
    "\n",
    "        # The target we're using to train the algorithm.\n",
    "        train_target = data[outcome].iloc[train]\n",
    "\n",
    "        # Training the algorithm using the predictors and target.\n",
    "        model.fit(train_predictors, train_target)\n",
    "\n",
    "        #Record error from each cross-validation run\n",
    "        error.append(model.score(data[predictors].iloc[test,:], data[outcome].iloc[test]))\n",
    "\n",
    "    print \"Cross-Validation Score : %s\" % \"{0:.3%}\".format(np.mean(error))\n",
    "    \n",
    "    # Fit the model again so that it can be refered out side of the function\n",
    "    model.fit(data[predictors],data[outcome])\n"
   ]
  },
  {
   "cell_type": "code",
   "execution_count": 479,
   "metadata": {
    "collapsed": false
   },
   "outputs": [
    {
     "data": {
      "text/plain": [
       "Index([u'Loan_ID', u'Gender', u'Married', u'Dependents', u'Education',\n",
       "       u'Self_Employed', u'ApplicantIncome', u'CoapplicantIncome',\n",
       "       u'LoanAmount', u'Loan_Amount_Term', u'Credit_History', u'Property_Area',\n",
       "       u'Loan_Status', u'LoanAmount_log', u'LoanBox', u'ApplicantIncome_log',\n",
       "       u'Total_Income', u'Total_Income_Log'],\n",
       "      dtype='object')"
      ]
     },
     "execution_count": 479,
     "metadata": {},
     "output_type": "execute_result"
    }
   ],
   "source": [
    "train.columns"
   ]
  },
  {
   "cell_type": "code",
   "execution_count": 481,
   "metadata": {
    "collapsed": false
   },
   "outputs": [
    {
     "name": "stdout",
     "output_type": "stream",
     "text": [
      "Accuracy : 100.000%\n",
      "Cross-Validation Score : 81.434%\n"
     ]
    }
   ],
   "source": [
    "# Let's use a random forest first and get a variable importance scale\n",
    "\n",
    "model = RandomForestClassifier(n_estimators=100)\n",
    "predictor_var = ['Gender', 'Married', 'Dependents', 'Education',\n",
    "       'Self_Employed', 'Loan_Amount_Term', 'Credit_History', 'Property_Area',\n",
    "        'LoanBox','Total_Income_Log']\n",
    "outcome_var = 'Loan_Status'\n",
    "classification_model(model, train,predictor_var,outcome_var)"
   ]
  },
  {
   "cell_type": "code",
   "execution_count": 484,
   "metadata": {
    "collapsed": false
   },
   "outputs": [
    {
     "data": {
      "text/plain": [
       "['__abstractmethods__',\n",
       " '__class__',\n",
       " '__delattr__',\n",
       " '__dict__',\n",
       " '__doc__',\n",
       " '__format__',\n",
       " '__getattribute__',\n",
       " '__getitem__',\n",
       " '__hash__',\n",
       " '__init__',\n",
       " '__iter__',\n",
       " '__len__',\n",
       " '__module__',\n",
       " '__new__',\n",
       " '__reduce__',\n",
       " '__reduce_ex__',\n",
       " '__repr__',\n",
       " '__setattr__',\n",
       " '__sizeof__',\n",
       " '__str__',\n",
       " '__subclasshook__',\n",
       " '__weakref__',\n",
       " '_abc_cache',\n",
       " '_abc_negative_cache',\n",
       " '_abc_negative_cache_version',\n",
       " '_abc_registry',\n",
       " '_estimator_type',\n",
       " '_get_param_names',\n",
       " '_make_estimator',\n",
       " '_set_oob_score',\n",
       " '_validate_X_predict',\n",
       " '_validate_estimator',\n",
       " '_validate_y_class_weight',\n",
       " 'apply',\n",
       " 'base_estimator',\n",
       " 'base_estimator_',\n",
       " 'bootstrap',\n",
       " 'class_weight',\n",
       " 'classes_',\n",
       " 'criterion',\n",
       " 'estimator_params',\n",
       " 'estimators_',\n",
       " 'feature_importances_',\n",
       " 'fit',\n",
       " 'fit_transform',\n",
       " 'get_params',\n",
       " 'max_depth',\n",
       " 'max_features',\n",
       " 'max_leaf_nodes',\n",
       " 'min_samples_leaf',\n",
       " 'min_samples_split',\n",
       " 'min_weight_fraction_leaf',\n",
       " 'n_classes_',\n",
       " 'n_estimators',\n",
       " 'n_features_',\n",
       " 'n_jobs',\n",
       " 'n_outputs_',\n",
       " 'oob_score',\n",
       " 'predict',\n",
       " 'predict_log_proba',\n",
       " 'predict_proba',\n",
       " 'random_state',\n",
       " 'score',\n",
       " 'set_params',\n",
       " 'transform',\n",
       " 'verbose',\n",
       " 'warm_start']"
      ]
     },
     "execution_count": 484,
     "metadata": {},
     "output_type": "execute_result"
    }
   ],
   "source": [
    "# 100 % accuracy shows overfitting\n",
    "# Should reduce this through reducing the number of predictors\n",
    "# and tuning model parameters\n",
    "\n",
    "# Check out attributes of the model:\n",
    "dir(model)"
   ]
  },
  {
   "cell_type": "code",
   "execution_count": 485,
   "metadata": {
    "collapsed": false
   },
   "outputs": [
    {
     "name": "stdout",
     "output_type": "stream",
     "text": [
      "Credit_History      0.286040\n",
      "Total_Income_Log    0.251765\n",
      "LoanBox             0.218059\n",
      "Dependents          0.057994\n",
      "Loan_Amount_Term    0.048841\n",
      "Property_Area       0.046158\n",
      "Married             0.024295\n",
      "Education           0.024288\n",
      "Gender              0.022948\n",
      "Self_Employed       0.019611\n",
      "dtype: float64\n"
     ]
    }
   ],
   "source": [
    "# Want to focus on feature importances\n",
    "featimp = pd.Series(model.feature_importances_, index=predictor_var).sort_values(ascending=False)\n",
    "print featimp"
   ]
  },
  {
   "cell_type": "code",
   "execution_count": 500,
   "metadata": {
    "collapsed": false
   },
   "outputs": [
    {
     "name": "stdout",
     "output_type": "stream",
     "text": [
      "Accuracy : 84.691%\n",
      "Cross-Validation Score : 81.918%\n"
     ]
    }
   ],
   "source": [
    "# We will use the top 5 to predict upon\n",
    "model = RandomForestClassifier(n_estimators=25, min_samples_split=25, max_depth=7,\n",
    "                              max_features=1)\n",
    "predictor_var = ['Credit_History','Total_Income_Log','LoanBox','Dependents','Loan_Amount_Term']\n",
    "classification_model(model,train,predictor_var,outcome_var)"
   ]
  },
  {
   "cell_type": "code",
   "execution_count": 501,
   "metadata": {
    "collapsed": false
   },
   "outputs": [
    {
     "name": "stdout",
     "output_type": "stream",
     "text": [
      "Accuracy : 64.007%\n",
      "Cross-Validation Score : 63.842%\n"
     ]
    }
   ],
   "source": [
    "# Let's try a regression model\n",
    "model = LogisticRegression()\n",
    "classification_model(model,train,predictor_var,outcome_var)"
   ]
  },
  {
   "cell_type": "code",
   "execution_count": 502,
   "metadata": {
    "collapsed": false
   },
   "outputs": [
    {
     "name": "stdout",
     "output_type": "stream",
     "text": [
      "Accuracy : 100.000%\n",
      "Cross-Validation Score : 74.598%\n"
     ]
    }
   ],
   "source": [
    "# And a decision tree model\n",
    "model=DecisionTreeClassifier()\n",
    "classification_model(model,train,predictor_var,outcome_var)"
   ]
  },
  {
   "cell_type": "code",
   "execution_count": 503,
   "metadata": {
    "collapsed": false
   },
   "outputs": [
    {
     "name": "stdout",
     "output_type": "stream",
     "text": [
      "Accuracy : 90.879%\n",
      "Cross-Validation Score : 75.238%\n"
     ]
    }
   ],
   "source": [
    "# Seems over fit again \n",
    "predictor_var=['Credit_History','Loan_Amount_Term','LoanBox']\n",
    "classification_model(model,train,predictor_var,outcome_var)"
   ]
  },
  {
   "cell_type": "code",
   "execution_count": null,
   "metadata": {
    "collapsed": true
   },
   "outputs": [],
   "source": [
    "# Article on cross validation\n",
    "# http://www.analyticsvidhya.com/blog/2015/11/improve-model-performance-cross-validation-in-python-r/\n",
    "# http://robjhyndman.com/hyndsight/crossvalidation/"
   ]
  }
 ],
 "metadata": {
  "kernelspec": {
   "display_name": "Python 3",
   "language": "python",
   "name": "python3"
  },
  "language_info": {
   "codemirror_mode": {
    "name": "ipython",
    "version": 3
   },
   "file_extension": ".py",
   "mimetype": "text/x-python",
   "name": "python",
   "nbconvert_exporter": "python",
   "pygments_lexer": "ipython3",
   "version": "3.5.2"
  }
 },
 "nbformat": 4,
 "nbformat_minor": 0
}
